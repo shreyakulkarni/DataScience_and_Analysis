{
 "cells": [
  {
   "cell_type": "markdown",
   "metadata": {},
   "source": [
    "Name: Shreya Kulkarni\n",
    "Project: SF salaries\n",
    "CSC 570 "
   ]
  },
  {
   "cell_type": "code",
   "execution_count": 1,
   "metadata": {
    "collapsed": false
   },
   "outputs": [
    {
     "name": "stdout",
     "output_type": "stream",
     "text": [
      "Populating the interactive namespace from numpy and matplotlib\n"
     ]
    }
   ],
   "source": [
    "import pandas as pd\n",
    "import numpy as np\n",
    "from sklearn.ensemble import RandomForestClassifier\n",
    "from sklearn.grid_search import GridSearchCV\n",
    "from sklearn.cross_validation import train_test_split\n",
    "from sklearn.metrics import roc_auc_score\n",
    "from sklearn.metrics import classification_report\n",
    "from sklearn.metrics import confusion_matrix\n",
    "from sklearn.metrics import accuracy_score\n",
    "from sklearn.metrics import roc_curve\n",
    "import math\n",
    "\n",
    "\n",
    "%matplotlib inline\n",
    "%pylab inline"
   ]
  },
  {
   "cell_type": "code",
   "execution_count": 2,
   "metadata": {
    "collapsed": false
   },
   "outputs": [
    {
     "name": "stderr",
     "output_type": "stream",
     "text": [
      "C:\\Users\\Karan\\Anaconda2\\lib\\site-packages\\IPython\\core\\interactiveshell.py:2717: DtypeWarning: Columns (3,4,5,6,12) have mixed types. Specify dtype option on import or set low_memory=False.\n",
      "  interactivity=interactivity, compiler=compiler, result=result)\n"
     ]
    }
   ],
   "source": [
    "sf=pd.read_csv(\"Salaries.csv\")"
   ]
  },
  {
   "cell_type": "code",
   "execution_count": 3,
   "metadata": {
    "collapsed": false
   },
   "outputs": [
    {
     "data": {
      "text/plain": [
       "Index([u'Id', u'EmployeeName', u'JobTitle', u'BasePay', u'OvertimePay',\n",
       "       u'OtherPay', u'Benefits', u'TotalPay', u'TotalPayBenefits', u'Year',\n",
       "       u'Notes', u'Agency', u'Status'],\n",
       "      dtype='object')"
      ]
     },
     "execution_count": 3,
     "metadata": {},
     "output_type": "execute_result"
    }
   ],
   "source": [
    "sf.columns"
   ]
  },
  {
   "cell_type": "code",
   "execution_count": 4,
   "metadata": {
    "collapsed": false
   },
   "outputs": [
    {
     "data": {
      "text/plain": [
       "<bound method DataFrame.describe of             Id            EmployeeName  \\\n",
       "0            1          NATHANIEL FORD   \n",
       "1            2            GARY JIMENEZ   \n",
       "2            3          ALBERT PARDINI   \n",
       "3            4       CHRISTOPHER CHONG   \n",
       "4            5         PATRICK GARDNER   \n",
       "5            6          DAVID SULLIVAN   \n",
       "6            7               ALSON LEE   \n",
       "7            8           DAVID KUSHNER   \n",
       "8            9          MICHAEL MORRIS   \n",
       "9           10      JOANNE HAYES-WHITE   \n",
       "10          11           ARTHUR KENNEY   \n",
       "11          12        PATRICIA JACKSON   \n",
       "12          13       EDWARD HARRINGTON   \n",
       "13          14             JOHN MARTIN   \n",
       "14          15          DAVID FRANKLIN   \n",
       "15          16         RICHARD CORRIEA   \n",
       "16          17                AMY HART   \n",
       "17          18          SEBASTIAN WONG   \n",
       "18          19              MARTY ROSS   \n",
       "19          20           ELLEN MOFFATT   \n",
       "20          21              VENUS AZAR   \n",
       "21          22            JUDY MELINEK   \n",
       "22          23           GEORGE GARCIA   \n",
       "23          24           VICTOR WYRSCH   \n",
       "24          25         JOSEPH DRISCOLL   \n",
       "25          26            GREGORY SUHR   \n",
       "26          27             JOHN HANLEY   \n",
       "27          28          RAYMOND GUZMAN   \n",
       "28          29          DENISE SCHMITT   \n",
       "29          30           MONICA FIELDS   \n",
       "...        ...                     ...   \n",
       "148624  148625      Lorraine Rosenthal   \n",
       "148625  148626         Renato C Gurion   \n",
       "148626  148627           Paulet Gaines   \n",
       "148627  148628        Brett A Lundberg   \n",
       "148628  148629          Mark W Mcclure   \n",
       "148629  148630       Elizabeth Iniguez   \n",
       "148630  148631            Randy J Keys   \n",
       "148631  148632         Andre M Johnson   \n",
       "148632  148633  Sharon D Owens-Webster   \n",
       "148633  148634        Edward Ferdinand   \n",
       "148634  148635          David M Turner   \n",
       "148635  148636     James S Kibblewhite   \n",
       "148636  148637           Andrew J Enzi   \n",
       "148637  148638        Kadeshra D Green   \n",
       "148638  148639    Lennard B Hutchinson   \n",
       "148639  148640       Richard A Talbert   \n",
       "148640  148641      Charlene D Mccully   \n",
       "148641  148642   Raphael Marquis Goins   \n",
       "148642  148643       Dominic C Marquez   \n",
       "148643  148644              Kim Brewer   \n",
       "148644  148645            Randy D Winn   \n",
       "148645  148646        Carolyn A Wilson   \n",
       "148646  148647            Not provided   \n",
       "148647  148648          Joann Anderson   \n",
       "148648  148649             Leon Walker   \n",
       "148649  148650           Roy I Tillery   \n",
       "148650  148651            Not provided   \n",
       "148651  148652            Not provided   \n",
       "148652  148653            Not provided   \n",
       "148653  148654               Joe Lopez   \n",
       "\n",
       "                                                JobTitle       BasePay  \\\n",
       "0         GENERAL MANAGER-METROPOLITAN TRANSIT AUTHORITY        167411   \n",
       "1                        CAPTAIN III (POLICE DEPARTMENT)        155966   \n",
       "2                        CAPTAIN III (POLICE DEPARTMENT)        212739   \n",
       "3                   WIRE ROPE CABLE MAINTENANCE MECHANIC         77916   \n",
       "4           DEPUTY CHIEF OF DEPARTMENT,(FIRE DEPARTMENT)        134402   \n",
       "5                              ASSISTANT DEPUTY CHIEF II        118602   \n",
       "6                     BATTALION CHIEF, (FIRE DEPARTMENT)         92492   \n",
       "7                         DEPUTY DIRECTOR OF INVESTMENTS        256577   \n",
       "8                     BATTALION CHIEF, (FIRE DEPARTMENT)        176933   \n",
       "9                 CHIEF OF DEPARTMENT, (FIRE DEPARTMENT)        285262   \n",
       "10      ASSISTANT CHIEF OF DEPARTMENT, (FIRE DEPARTMENT)        194999   \n",
       "11                       CAPTAIN III (POLICE DEPARTMENT)         99722   \n",
       "12                           EXECUTIVE CONTRACT EMPLOYEE        294580   \n",
       "13                                     DEPARTMENT HEAD V        271329   \n",
       "14                    BATTALION CHIEF, (FIRE DEPARTMENT)        174873   \n",
       "15                    COMMANDER III, (POLICE DEPARTMENT)        198778   \n",
       "16                                     DEPARTMENT HEAD V        268605   \n",
       "17                 CAPTAIN, EMERGENCYCY MEDICAL SERVICES        140547   \n",
       "18                    BATTALION CHIEF, (FIRE DEPARTMENT)        168693   \n",
       "19                            ASSISTANT MEDICAL EXAMINER        257511   \n",
       "20                            ASSISTANT MEDICAL EXAMINER        257510   \n",
       "21                            ASSISTANT MEDICAL EXAMINER        257510   \n",
       "22                             CAPTAIN, FIRE SUPPRESSION        140547   \n",
       "23                    BATTALION CHIEF, (FIRE DEPARTMENT)        168693   \n",
       "24                             CAPTAIN, FIRE SUPPRESSION        140547   \n",
       "25                                       CHIEF OF POLICE        256470   \n",
       "26                             CAPTAIN, FIRE SUPPRESSION       92080.8   \n",
       "27                    BATTALION CHIEF, (FIRE DEPARTMENT)        168693   \n",
       "28                  DEPUTY CHIEF III (POLICE DEPARTMENT)        261718   \n",
       "29          DEPUTY CHIEF OF DEPARTMENT,(FIRE DEPARTMENT)        246226   \n",
       "...                                                  ...           ...   \n",
       "148624                                      Senior Clerk          0.00   \n",
       "148625                                  Registered Nurse          0.00   \n",
       "148626                                     Account Clerk          0.00   \n",
       "148627                                   General Laborer          0.00   \n",
       "148628                                   General Laborer          0.00   \n",
       "148629                                Transcriber Typist          0.00   \n",
       "148630                                         Carpenter          0.00   \n",
       "148631                       Communications Dispatcher 1          0.00   \n",
       "148632                        Protective Services Worker          0.00   \n",
       "148633                                   General Laborer          0.00   \n",
       "148634                               Transit Car Cleaner          0.00   \n",
       "148635                                   General Laborer          0.00   \n",
       "148636                               Arborist Technician          0.00   \n",
       "148637                            Transit Fare Inspector          0.00   \n",
       "148638                                       Electrician          0.00   \n",
       "148639                                         Custodian          0.00   \n",
       "148640                           Parking Control Officer          0.00   \n",
       "148641                                      Museum Guard          0.00   \n",
       "148642                                       Sign Worker          0.00   \n",
       "148643                           Parking Control Officer          0.00   \n",
       "148644                      Stationary Eng, Sewage Plant          0.00   \n",
       "148645                         Human Services Technician          0.00   \n",
       "148646                                      Not provided  Not Provided   \n",
       "148647                       Communications Dispatcher 2          0.00   \n",
       "148648                                         Custodian          0.00   \n",
       "148649                                         Custodian          0.00   \n",
       "148650                                      Not provided  Not Provided   \n",
       "148651                                      Not provided  Not Provided   \n",
       "148652                                      Not provided  Not Provided   \n",
       "148653                        Counselor, Log Cabin Ranch          0.00   \n",
       "\n",
       "         OvertimePay      OtherPay      Benefits   TotalPay  TotalPayBenefits  \\\n",
       "0                  0        400184           NaN  567595.43         567595.43   \n",
       "1             245132        137811           NaN  538909.28         538909.28   \n",
       "2             106088       16452.6           NaN  335279.91         335279.91   \n",
       "3            56120.7        198307           NaN  332343.61         332343.61   \n",
       "4               9737        182235           NaN  326373.19         326373.19   \n",
       "5               8601        189083           NaN  316285.74         316285.74   \n",
       "6            89062.9        134426           NaN  315981.05         315981.05   \n",
       "7                  0       51322.5           NaN  307899.46         307899.46   \n",
       "8            86362.7       40132.2           NaN  303427.55         303427.55   \n",
       "9                  0       17115.7           NaN  302377.73         302377.73   \n",
       "10           71344.9       33149.9           NaN  299494.17         299494.17   \n",
       "11           87082.6        110804           NaN  297608.92         297608.92   \n",
       "12                 0             0           NaN  294580.02         294580.02   \n",
       "13                 0       21342.6           NaN  292671.62         292671.62   \n",
       "14           74050.3       37424.1           NaN  286347.05         286347.05   \n",
       "15           73478.2       13957.6           NaN  286213.86         286213.86   \n",
       "16                 0       16115.9           NaN  284720.43         284720.43   \n",
       "17            119397       18625.1           NaN  278569.21         278569.21   \n",
       "18           69626.1       38115.5           NaN  276434.22         276434.22   \n",
       "19            880.16       16159.5           NaN  274550.25         274550.25   \n",
       "20                 0       16679.8           NaN  274190.27         274190.27   \n",
       "21            377.21       15883.6           NaN  273771.21         273771.21   \n",
       "22           93200.6       39955.2           NaN  273702.71         273702.71   \n",
       "23           77896.1       24083.9           NaN  270672.63         270672.63   \n",
       "24           97868.8       31909.3           NaN  270324.91         270324.91   \n",
       "25                 0       11522.2           NaN  267992.59         267992.59   \n",
       "26             40008        133696           NaN  265784.56         265784.56   \n",
       "27           80706.9         16064           NaN  265463.46         265463.46   \n",
       "28                 0          2357           NaN  264074.60         264074.60   \n",
       "29                 0       15140.5           NaN  261366.14         261366.14   \n",
       "...              ...           ...           ...        ...               ...   \n",
       "148624          0.00         12.89          0.00      12.89             12.89   \n",
       "148625          0.00          6.00          1.24       6.00              7.24   \n",
       "148626          0.00          0.00          0.00       0.00              0.00   \n",
       "148627          0.00          0.00          0.00       0.00              0.00   \n",
       "148628          0.00          0.00          0.00       0.00              0.00   \n",
       "148629          0.00          0.00          0.00       0.00              0.00   \n",
       "148630          0.00          0.00          0.00       0.00              0.00   \n",
       "148631          0.00          0.00          0.00       0.00              0.00   \n",
       "148632          0.00          0.00          0.00       0.00              0.00   \n",
       "148633          0.00          0.00          0.00       0.00              0.00   \n",
       "148634          0.00          0.00          0.00       0.00              0.00   \n",
       "148635          0.00          0.00          0.00       0.00              0.00   \n",
       "148636          0.00          0.00          0.00       0.00              0.00   \n",
       "148637          0.00          0.00          0.00       0.00              0.00   \n",
       "148638          0.00          0.00          0.00       0.00              0.00   \n",
       "148639          0.00          0.00          0.00       0.00              0.00   \n",
       "148640          0.00          0.00          0.00       0.00              0.00   \n",
       "148641          0.00          0.00          0.00       0.00              0.00   \n",
       "148642          0.00          0.00          0.00       0.00              0.00   \n",
       "148643          0.00          0.00          0.00       0.00              0.00   \n",
       "148644          0.00          0.00          0.00       0.00              0.00   \n",
       "148645          0.00          0.00          0.00       0.00              0.00   \n",
       "148646  Not Provided  Not Provided  Not Provided       0.00              0.00   \n",
       "148647          0.00          0.00          0.00       0.00              0.00   \n",
       "148648          0.00          0.00          0.00       0.00              0.00   \n",
       "148649          0.00          0.00          0.00       0.00              0.00   \n",
       "148650  Not Provided  Not Provided  Not Provided       0.00              0.00   \n",
       "148651  Not Provided  Not Provided  Not Provided       0.00              0.00   \n",
       "148652  Not Provided  Not Provided  Not Provided       0.00              0.00   \n",
       "148653          0.00       -618.13          0.00    -618.13           -618.13   \n",
       "\n",
       "        Year  Notes         Agency Status  \n",
       "0       2011    NaN  San Francisco    NaN  \n",
       "1       2011    NaN  San Francisco    NaN  \n",
       "2       2011    NaN  San Francisco    NaN  \n",
       "3       2011    NaN  San Francisco    NaN  \n",
       "4       2011    NaN  San Francisco    NaN  \n",
       "5       2011    NaN  San Francisco    NaN  \n",
       "6       2011    NaN  San Francisco    NaN  \n",
       "7       2011    NaN  San Francisco    NaN  \n",
       "8       2011    NaN  San Francisco    NaN  \n",
       "9       2011    NaN  San Francisco    NaN  \n",
       "10      2011    NaN  San Francisco    NaN  \n",
       "11      2011    NaN  San Francisco    NaN  \n",
       "12      2011    NaN  San Francisco    NaN  \n",
       "13      2011    NaN  San Francisco    NaN  \n",
       "14      2011    NaN  San Francisco    NaN  \n",
       "15      2011    NaN  San Francisco    NaN  \n",
       "16      2011    NaN  San Francisco    NaN  \n",
       "17      2011    NaN  San Francisco    NaN  \n",
       "18      2011    NaN  San Francisco    NaN  \n",
       "19      2011    NaN  San Francisco    NaN  \n",
       "20      2011    NaN  San Francisco    NaN  \n",
       "21      2011    NaN  San Francisco    NaN  \n",
       "22      2011    NaN  San Francisco    NaN  \n",
       "23      2011    NaN  San Francisco    NaN  \n",
       "24      2011    NaN  San Francisco    NaN  \n",
       "25      2011    NaN  San Francisco    NaN  \n",
       "26      2011    NaN  San Francisco    NaN  \n",
       "27      2011    NaN  San Francisco    NaN  \n",
       "28      2011    NaN  San Francisco    NaN  \n",
       "29      2011    NaN  San Francisco    NaN  \n",
       "...      ...    ...            ...    ...  \n",
       "148624  2014    NaN  San Francisco     PT  \n",
       "148625  2014    NaN  San Francisco     PT  \n",
       "148626  2014    NaN  San Francisco     PT  \n",
       "148627  2014    NaN  San Francisco     PT  \n",
       "148628  2014    NaN  San Francisco     PT  \n",
       "148629  2014    NaN  San Francisco     PT  \n",
       "148630  2014    NaN  San Francisco     PT  \n",
       "148631  2014    NaN  San Francisco     PT  \n",
       "148632  2014    NaN  San Francisco     PT  \n",
       "148633  2014    NaN  San Francisco     PT  \n",
       "148634  2014    NaN  San Francisco     PT  \n",
       "148635  2014    NaN  San Francisco     PT  \n",
       "148636  2014    NaN  San Francisco     PT  \n",
       "148637  2014    NaN  San Francisco     PT  \n",
       "148638  2014    NaN  San Francisco     PT  \n",
       "148639  2014    NaN  San Francisco     PT  \n",
       "148640  2014    NaN  San Francisco     PT  \n",
       "148641  2014    NaN  San Francisco     PT  \n",
       "148642  2014    NaN  San Francisco     PT  \n",
       "148643  2014    NaN  San Francisco     PT  \n",
       "148644  2014    NaN  San Francisco     PT  \n",
       "148645  2014    NaN  San Francisco     PT  \n",
       "148646  2014    NaN  San Francisco    NaN  \n",
       "148647  2014    NaN  San Francisco     PT  \n",
       "148648  2014    NaN  San Francisco     PT  \n",
       "148649  2014    NaN  San Francisco     PT  \n",
       "148650  2014    NaN  San Francisco    NaN  \n",
       "148651  2014    NaN  San Francisco    NaN  \n",
       "148652  2014    NaN  San Francisco    NaN  \n",
       "148653  2014    NaN  San Francisco     PT  \n",
       "\n",
       "[148654 rows x 13 columns]>"
      ]
     },
     "execution_count": 4,
     "metadata": {},
     "output_type": "execute_result"
    }
   ],
   "source": [
    "sf.describe\n"
   ]
  },
  {
   "cell_type": "code",
   "execution_count": 5,
   "metadata": {
    "collapsed": false
   },
   "outputs": [
    {
     "data": {
      "text/html": [
       "<div>\n",
       "<table border=\"1\" class=\"dataframe\">\n",
       "  <thead>\n",
       "    <tr style=\"text-align: right;\">\n",
       "      <th></th>\n",
       "      <th>Id</th>\n",
       "      <th>EmployeeName</th>\n",
       "      <th>JobTitle</th>\n",
       "      <th>BasePay</th>\n",
       "      <th>OvertimePay</th>\n",
       "      <th>OtherPay</th>\n",
       "      <th>Benefits</th>\n",
       "      <th>TotalPay</th>\n",
       "      <th>TotalPayBenefits</th>\n",
       "      <th>Year</th>\n",
       "      <th>Notes</th>\n",
       "      <th>Agency</th>\n",
       "      <th>Status</th>\n",
       "    </tr>\n",
       "  </thead>\n",
       "  <tbody>\n",
       "    <tr>\n",
       "      <th>0</th>\n",
       "      <td>1</td>\n",
       "      <td>NATHANIEL FORD</td>\n",
       "      <td>GENERAL MANAGER-METROPOLITAN TRANSIT AUTHORITY</td>\n",
       "      <td>167411</td>\n",
       "      <td>0</td>\n",
       "      <td>400184</td>\n",
       "      <td>NaN</td>\n",
       "      <td>567595.43</td>\n",
       "      <td>567595.43</td>\n",
       "      <td>2011</td>\n",
       "      <td>NaN</td>\n",
       "      <td>San Francisco</td>\n",
       "      <td>NaN</td>\n",
       "    </tr>\n",
       "    <tr>\n",
       "      <th>1</th>\n",
       "      <td>2</td>\n",
       "      <td>GARY JIMENEZ</td>\n",
       "      <td>CAPTAIN III (POLICE DEPARTMENT)</td>\n",
       "      <td>155966</td>\n",
       "      <td>245132</td>\n",
       "      <td>137811</td>\n",
       "      <td>NaN</td>\n",
       "      <td>538909.28</td>\n",
       "      <td>538909.28</td>\n",
       "      <td>2011</td>\n",
       "      <td>NaN</td>\n",
       "      <td>San Francisco</td>\n",
       "      <td>NaN</td>\n",
       "    </tr>\n",
       "    <tr>\n",
       "      <th>2</th>\n",
       "      <td>3</td>\n",
       "      <td>ALBERT PARDINI</td>\n",
       "      <td>CAPTAIN III (POLICE DEPARTMENT)</td>\n",
       "      <td>212739</td>\n",
       "      <td>106088</td>\n",
       "      <td>16452.6</td>\n",
       "      <td>NaN</td>\n",
       "      <td>335279.91</td>\n",
       "      <td>335279.91</td>\n",
       "      <td>2011</td>\n",
       "      <td>NaN</td>\n",
       "      <td>San Francisco</td>\n",
       "      <td>NaN</td>\n",
       "    </tr>\n",
       "    <tr>\n",
       "      <th>3</th>\n",
       "      <td>4</td>\n",
       "      <td>CHRISTOPHER CHONG</td>\n",
       "      <td>WIRE ROPE CABLE MAINTENANCE MECHANIC</td>\n",
       "      <td>77916</td>\n",
       "      <td>56120.7</td>\n",
       "      <td>198307</td>\n",
       "      <td>NaN</td>\n",
       "      <td>332343.61</td>\n",
       "      <td>332343.61</td>\n",
       "      <td>2011</td>\n",
       "      <td>NaN</td>\n",
       "      <td>San Francisco</td>\n",
       "      <td>NaN</td>\n",
       "    </tr>\n",
       "    <tr>\n",
       "      <th>4</th>\n",
       "      <td>5</td>\n",
       "      <td>PATRICK GARDNER</td>\n",
       "      <td>DEPUTY CHIEF OF DEPARTMENT,(FIRE DEPARTMENT)</td>\n",
       "      <td>134402</td>\n",
       "      <td>9737</td>\n",
       "      <td>182235</td>\n",
       "      <td>NaN</td>\n",
       "      <td>326373.19</td>\n",
       "      <td>326373.19</td>\n",
       "      <td>2011</td>\n",
       "      <td>NaN</td>\n",
       "      <td>San Francisco</td>\n",
       "      <td>NaN</td>\n",
       "    </tr>\n",
       "    <tr>\n",
       "      <th>5</th>\n",
       "      <td>6</td>\n",
       "      <td>DAVID SULLIVAN</td>\n",
       "      <td>ASSISTANT DEPUTY CHIEF II</td>\n",
       "      <td>118602</td>\n",
       "      <td>8601</td>\n",
       "      <td>189083</td>\n",
       "      <td>NaN</td>\n",
       "      <td>316285.74</td>\n",
       "      <td>316285.74</td>\n",
       "      <td>2011</td>\n",
       "      <td>NaN</td>\n",
       "      <td>San Francisco</td>\n",
       "      <td>NaN</td>\n",
       "    </tr>\n",
       "    <tr>\n",
       "      <th>6</th>\n",
       "      <td>7</td>\n",
       "      <td>ALSON LEE</td>\n",
       "      <td>BATTALION CHIEF, (FIRE DEPARTMENT)</td>\n",
       "      <td>92492</td>\n",
       "      <td>89062.9</td>\n",
       "      <td>134426</td>\n",
       "      <td>NaN</td>\n",
       "      <td>315981.05</td>\n",
       "      <td>315981.05</td>\n",
       "      <td>2011</td>\n",
       "      <td>NaN</td>\n",
       "      <td>San Francisco</td>\n",
       "      <td>NaN</td>\n",
       "    </tr>\n",
       "    <tr>\n",
       "      <th>7</th>\n",
       "      <td>8</td>\n",
       "      <td>DAVID KUSHNER</td>\n",
       "      <td>DEPUTY DIRECTOR OF INVESTMENTS</td>\n",
       "      <td>256577</td>\n",
       "      <td>0</td>\n",
       "      <td>51322.5</td>\n",
       "      <td>NaN</td>\n",
       "      <td>307899.46</td>\n",
       "      <td>307899.46</td>\n",
       "      <td>2011</td>\n",
       "      <td>NaN</td>\n",
       "      <td>San Francisco</td>\n",
       "      <td>NaN</td>\n",
       "    </tr>\n",
       "    <tr>\n",
       "      <th>8</th>\n",
       "      <td>9</td>\n",
       "      <td>MICHAEL MORRIS</td>\n",
       "      <td>BATTALION CHIEF, (FIRE DEPARTMENT)</td>\n",
       "      <td>176933</td>\n",
       "      <td>86362.7</td>\n",
       "      <td>40132.2</td>\n",
       "      <td>NaN</td>\n",
       "      <td>303427.55</td>\n",
       "      <td>303427.55</td>\n",
       "      <td>2011</td>\n",
       "      <td>NaN</td>\n",
       "      <td>San Francisco</td>\n",
       "      <td>NaN</td>\n",
       "    </tr>\n",
       "    <tr>\n",
       "      <th>9</th>\n",
       "      <td>10</td>\n",
       "      <td>JOANNE HAYES-WHITE</td>\n",
       "      <td>CHIEF OF DEPARTMENT, (FIRE DEPARTMENT)</td>\n",
       "      <td>285262</td>\n",
       "      <td>0</td>\n",
       "      <td>17115.7</td>\n",
       "      <td>NaN</td>\n",
       "      <td>302377.73</td>\n",
       "      <td>302377.73</td>\n",
       "      <td>2011</td>\n",
       "      <td>NaN</td>\n",
       "      <td>San Francisco</td>\n",
       "      <td>NaN</td>\n",
       "    </tr>\n",
       "    <tr>\n",
       "      <th>10</th>\n",
       "      <td>11</td>\n",
       "      <td>ARTHUR KENNEY</td>\n",
       "      <td>ASSISTANT CHIEF OF DEPARTMENT, (FIRE DEPARTMENT)</td>\n",
       "      <td>194999</td>\n",
       "      <td>71344.9</td>\n",
       "      <td>33149.9</td>\n",
       "      <td>NaN</td>\n",
       "      <td>299494.17</td>\n",
       "      <td>299494.17</td>\n",
       "      <td>2011</td>\n",
       "      <td>NaN</td>\n",
       "      <td>San Francisco</td>\n",
       "      <td>NaN</td>\n",
       "    </tr>\n",
       "    <tr>\n",
       "      <th>11</th>\n",
       "      <td>12</td>\n",
       "      <td>PATRICIA JACKSON</td>\n",
       "      <td>CAPTAIN III (POLICE DEPARTMENT)</td>\n",
       "      <td>99722</td>\n",
       "      <td>87082.6</td>\n",
       "      <td>110804</td>\n",
       "      <td>NaN</td>\n",
       "      <td>297608.92</td>\n",
       "      <td>297608.92</td>\n",
       "      <td>2011</td>\n",
       "      <td>NaN</td>\n",
       "      <td>San Francisco</td>\n",
       "      <td>NaN</td>\n",
       "    </tr>\n",
       "    <tr>\n",
       "      <th>12</th>\n",
       "      <td>13</td>\n",
       "      <td>EDWARD HARRINGTON</td>\n",
       "      <td>EXECUTIVE CONTRACT EMPLOYEE</td>\n",
       "      <td>294580</td>\n",
       "      <td>0</td>\n",
       "      <td>0</td>\n",
       "      <td>NaN</td>\n",
       "      <td>294580.02</td>\n",
       "      <td>294580.02</td>\n",
       "      <td>2011</td>\n",
       "      <td>NaN</td>\n",
       "      <td>San Francisco</td>\n",
       "      <td>NaN</td>\n",
       "    </tr>\n",
       "    <tr>\n",
       "      <th>13</th>\n",
       "      <td>14</td>\n",
       "      <td>JOHN MARTIN</td>\n",
       "      <td>DEPARTMENT HEAD V</td>\n",
       "      <td>271329</td>\n",
       "      <td>0</td>\n",
       "      <td>21342.6</td>\n",
       "      <td>NaN</td>\n",
       "      <td>292671.62</td>\n",
       "      <td>292671.62</td>\n",
       "      <td>2011</td>\n",
       "      <td>NaN</td>\n",
       "      <td>San Francisco</td>\n",
       "      <td>NaN</td>\n",
       "    </tr>\n",
       "    <tr>\n",
       "      <th>14</th>\n",
       "      <td>15</td>\n",
       "      <td>DAVID FRANKLIN</td>\n",
       "      <td>BATTALION CHIEF, (FIRE DEPARTMENT)</td>\n",
       "      <td>174873</td>\n",
       "      <td>74050.3</td>\n",
       "      <td>37424.1</td>\n",
       "      <td>NaN</td>\n",
       "      <td>286347.05</td>\n",
       "      <td>286347.05</td>\n",
       "      <td>2011</td>\n",
       "      <td>NaN</td>\n",
       "      <td>San Francisco</td>\n",
       "      <td>NaN</td>\n",
       "    </tr>\n",
       "    <tr>\n",
       "      <th>15</th>\n",
       "      <td>16</td>\n",
       "      <td>RICHARD CORRIEA</td>\n",
       "      <td>COMMANDER III, (POLICE DEPARTMENT)</td>\n",
       "      <td>198778</td>\n",
       "      <td>73478.2</td>\n",
       "      <td>13957.6</td>\n",
       "      <td>NaN</td>\n",
       "      <td>286213.86</td>\n",
       "      <td>286213.86</td>\n",
       "      <td>2011</td>\n",
       "      <td>NaN</td>\n",
       "      <td>San Francisco</td>\n",
       "      <td>NaN</td>\n",
       "    </tr>\n",
       "    <tr>\n",
       "      <th>16</th>\n",
       "      <td>17</td>\n",
       "      <td>AMY HART</td>\n",
       "      <td>DEPARTMENT HEAD V</td>\n",
       "      <td>268605</td>\n",
       "      <td>0</td>\n",
       "      <td>16115.9</td>\n",
       "      <td>NaN</td>\n",
       "      <td>284720.43</td>\n",
       "      <td>284720.43</td>\n",
       "      <td>2011</td>\n",
       "      <td>NaN</td>\n",
       "      <td>San Francisco</td>\n",
       "      <td>NaN</td>\n",
       "    </tr>\n",
       "    <tr>\n",
       "      <th>17</th>\n",
       "      <td>18</td>\n",
       "      <td>SEBASTIAN WONG</td>\n",
       "      <td>CAPTAIN, EMERGENCYCY MEDICAL SERVICES</td>\n",
       "      <td>140547</td>\n",
       "      <td>119397</td>\n",
       "      <td>18625.1</td>\n",
       "      <td>NaN</td>\n",
       "      <td>278569.21</td>\n",
       "      <td>278569.21</td>\n",
       "      <td>2011</td>\n",
       "      <td>NaN</td>\n",
       "      <td>San Francisco</td>\n",
       "      <td>NaN</td>\n",
       "    </tr>\n",
       "    <tr>\n",
       "      <th>18</th>\n",
       "      <td>19</td>\n",
       "      <td>MARTY ROSS</td>\n",
       "      <td>BATTALION CHIEF, (FIRE DEPARTMENT)</td>\n",
       "      <td>168693</td>\n",
       "      <td>69626.1</td>\n",
       "      <td>38115.5</td>\n",
       "      <td>NaN</td>\n",
       "      <td>276434.22</td>\n",
       "      <td>276434.22</td>\n",
       "      <td>2011</td>\n",
       "      <td>NaN</td>\n",
       "      <td>San Francisco</td>\n",
       "      <td>NaN</td>\n",
       "    </tr>\n",
       "    <tr>\n",
       "      <th>19</th>\n",
       "      <td>20</td>\n",
       "      <td>ELLEN MOFFATT</td>\n",
       "      <td>ASSISTANT MEDICAL EXAMINER</td>\n",
       "      <td>257511</td>\n",
       "      <td>880.16</td>\n",
       "      <td>16159.5</td>\n",
       "      <td>NaN</td>\n",
       "      <td>274550.25</td>\n",
       "      <td>274550.25</td>\n",
       "      <td>2011</td>\n",
       "      <td>NaN</td>\n",
       "      <td>San Francisco</td>\n",
       "      <td>NaN</td>\n",
       "    </tr>\n",
       "    <tr>\n",
       "      <th>20</th>\n",
       "      <td>21</td>\n",
       "      <td>VENUS AZAR</td>\n",
       "      <td>ASSISTANT MEDICAL EXAMINER</td>\n",
       "      <td>257510</td>\n",
       "      <td>0</td>\n",
       "      <td>16679.8</td>\n",
       "      <td>NaN</td>\n",
       "      <td>274190.27</td>\n",
       "      <td>274190.27</td>\n",
       "      <td>2011</td>\n",
       "      <td>NaN</td>\n",
       "      <td>San Francisco</td>\n",
       "      <td>NaN</td>\n",
       "    </tr>\n",
       "    <tr>\n",
       "      <th>21</th>\n",
       "      <td>22</td>\n",
       "      <td>JUDY MELINEK</td>\n",
       "      <td>ASSISTANT MEDICAL EXAMINER</td>\n",
       "      <td>257510</td>\n",
       "      <td>377.21</td>\n",
       "      <td>15883.6</td>\n",
       "      <td>NaN</td>\n",
       "      <td>273771.21</td>\n",
       "      <td>273771.21</td>\n",
       "      <td>2011</td>\n",
       "      <td>NaN</td>\n",
       "      <td>San Francisco</td>\n",
       "      <td>NaN</td>\n",
       "    </tr>\n",
       "    <tr>\n",
       "      <th>22</th>\n",
       "      <td>23</td>\n",
       "      <td>GEORGE GARCIA</td>\n",
       "      <td>CAPTAIN, FIRE SUPPRESSION</td>\n",
       "      <td>140547</td>\n",
       "      <td>93200.6</td>\n",
       "      <td>39955.2</td>\n",
       "      <td>NaN</td>\n",
       "      <td>273702.71</td>\n",
       "      <td>273702.71</td>\n",
       "      <td>2011</td>\n",
       "      <td>NaN</td>\n",
       "      <td>San Francisco</td>\n",
       "      <td>NaN</td>\n",
       "    </tr>\n",
       "    <tr>\n",
       "      <th>23</th>\n",
       "      <td>24</td>\n",
       "      <td>VICTOR WYRSCH</td>\n",
       "      <td>BATTALION CHIEF, (FIRE DEPARTMENT)</td>\n",
       "      <td>168693</td>\n",
       "      <td>77896.1</td>\n",
       "      <td>24083.9</td>\n",
       "      <td>NaN</td>\n",
       "      <td>270672.63</td>\n",
       "      <td>270672.63</td>\n",
       "      <td>2011</td>\n",
       "      <td>NaN</td>\n",
       "      <td>San Francisco</td>\n",
       "      <td>NaN</td>\n",
       "    </tr>\n",
       "    <tr>\n",
       "      <th>24</th>\n",
       "      <td>25</td>\n",
       "      <td>JOSEPH DRISCOLL</td>\n",
       "      <td>CAPTAIN, FIRE SUPPRESSION</td>\n",
       "      <td>140547</td>\n",
       "      <td>97868.8</td>\n",
       "      <td>31909.3</td>\n",
       "      <td>NaN</td>\n",
       "      <td>270324.91</td>\n",
       "      <td>270324.91</td>\n",
       "      <td>2011</td>\n",
       "      <td>NaN</td>\n",
       "      <td>San Francisco</td>\n",
       "      <td>NaN</td>\n",
       "    </tr>\n",
       "    <tr>\n",
       "      <th>25</th>\n",
       "      <td>26</td>\n",
       "      <td>GREGORY SUHR</td>\n",
       "      <td>CHIEF OF POLICE</td>\n",
       "      <td>256470</td>\n",
       "      <td>0</td>\n",
       "      <td>11522.2</td>\n",
       "      <td>NaN</td>\n",
       "      <td>267992.59</td>\n",
       "      <td>267992.59</td>\n",
       "      <td>2011</td>\n",
       "      <td>NaN</td>\n",
       "      <td>San Francisco</td>\n",
       "      <td>NaN</td>\n",
       "    </tr>\n",
       "    <tr>\n",
       "      <th>26</th>\n",
       "      <td>27</td>\n",
       "      <td>JOHN HANLEY</td>\n",
       "      <td>CAPTAIN, FIRE SUPPRESSION</td>\n",
       "      <td>92080.8</td>\n",
       "      <td>40008</td>\n",
       "      <td>133696</td>\n",
       "      <td>NaN</td>\n",
       "      <td>265784.56</td>\n",
       "      <td>265784.56</td>\n",
       "      <td>2011</td>\n",
       "      <td>NaN</td>\n",
       "      <td>San Francisco</td>\n",
       "      <td>NaN</td>\n",
       "    </tr>\n",
       "    <tr>\n",
       "      <th>27</th>\n",
       "      <td>28</td>\n",
       "      <td>RAYMOND GUZMAN</td>\n",
       "      <td>BATTALION CHIEF, (FIRE DEPARTMENT)</td>\n",
       "      <td>168693</td>\n",
       "      <td>80706.9</td>\n",
       "      <td>16064</td>\n",
       "      <td>NaN</td>\n",
       "      <td>265463.46</td>\n",
       "      <td>265463.46</td>\n",
       "      <td>2011</td>\n",
       "      <td>NaN</td>\n",
       "      <td>San Francisco</td>\n",
       "      <td>NaN</td>\n",
       "    </tr>\n",
       "    <tr>\n",
       "      <th>28</th>\n",
       "      <td>29</td>\n",
       "      <td>DENISE SCHMITT</td>\n",
       "      <td>DEPUTY CHIEF III (POLICE DEPARTMENT)</td>\n",
       "      <td>261718</td>\n",
       "      <td>0</td>\n",
       "      <td>2357</td>\n",
       "      <td>NaN</td>\n",
       "      <td>264074.60</td>\n",
       "      <td>264074.60</td>\n",
       "      <td>2011</td>\n",
       "      <td>NaN</td>\n",
       "      <td>San Francisco</td>\n",
       "      <td>NaN</td>\n",
       "    </tr>\n",
       "    <tr>\n",
       "      <th>29</th>\n",
       "      <td>30</td>\n",
       "      <td>MONICA FIELDS</td>\n",
       "      <td>DEPUTY CHIEF OF DEPARTMENT,(FIRE DEPARTMENT)</td>\n",
       "      <td>246226</td>\n",
       "      <td>0</td>\n",
       "      <td>15140.5</td>\n",
       "      <td>NaN</td>\n",
       "      <td>261366.14</td>\n",
       "      <td>261366.14</td>\n",
       "      <td>2011</td>\n",
       "      <td>NaN</td>\n",
       "      <td>San Francisco</td>\n",
       "      <td>NaN</td>\n",
       "    </tr>\n",
       "    <tr>\n",
       "      <th>...</th>\n",
       "      <td>...</td>\n",
       "      <td>...</td>\n",
       "      <td>...</td>\n",
       "      <td>...</td>\n",
       "      <td>...</td>\n",
       "      <td>...</td>\n",
       "      <td>...</td>\n",
       "      <td>...</td>\n",
       "      <td>...</td>\n",
       "      <td>...</td>\n",
       "      <td>...</td>\n",
       "      <td>...</td>\n",
       "      <td>...</td>\n",
       "    </tr>\n",
       "    <tr>\n",
       "      <th>148624</th>\n",
       "      <td>148625</td>\n",
       "      <td>Lorraine Rosenthal</td>\n",
       "      <td>Senior Clerk</td>\n",
       "      <td>0.00</td>\n",
       "      <td>0.00</td>\n",
       "      <td>12.89</td>\n",
       "      <td>0.00</td>\n",
       "      <td>12.89</td>\n",
       "      <td>12.89</td>\n",
       "      <td>2014</td>\n",
       "      <td>NaN</td>\n",
       "      <td>San Francisco</td>\n",
       "      <td>PT</td>\n",
       "    </tr>\n",
       "    <tr>\n",
       "      <th>148625</th>\n",
       "      <td>148626</td>\n",
       "      <td>Renato C Gurion</td>\n",
       "      <td>Registered Nurse</td>\n",
       "      <td>0.00</td>\n",
       "      <td>0.00</td>\n",
       "      <td>6.00</td>\n",
       "      <td>1.24</td>\n",
       "      <td>6.00</td>\n",
       "      <td>7.24</td>\n",
       "      <td>2014</td>\n",
       "      <td>NaN</td>\n",
       "      <td>San Francisco</td>\n",
       "      <td>PT</td>\n",
       "    </tr>\n",
       "    <tr>\n",
       "      <th>148626</th>\n",
       "      <td>148627</td>\n",
       "      <td>Paulet Gaines</td>\n",
       "      <td>Account Clerk</td>\n",
       "      <td>0.00</td>\n",
       "      <td>0.00</td>\n",
       "      <td>0.00</td>\n",
       "      <td>0.00</td>\n",
       "      <td>0.00</td>\n",
       "      <td>0.00</td>\n",
       "      <td>2014</td>\n",
       "      <td>NaN</td>\n",
       "      <td>San Francisco</td>\n",
       "      <td>PT</td>\n",
       "    </tr>\n",
       "    <tr>\n",
       "      <th>148627</th>\n",
       "      <td>148628</td>\n",
       "      <td>Brett A Lundberg</td>\n",
       "      <td>General Laborer</td>\n",
       "      <td>0.00</td>\n",
       "      <td>0.00</td>\n",
       "      <td>0.00</td>\n",
       "      <td>0.00</td>\n",
       "      <td>0.00</td>\n",
       "      <td>0.00</td>\n",
       "      <td>2014</td>\n",
       "      <td>NaN</td>\n",
       "      <td>San Francisco</td>\n",
       "      <td>PT</td>\n",
       "    </tr>\n",
       "    <tr>\n",
       "      <th>148628</th>\n",
       "      <td>148629</td>\n",
       "      <td>Mark W Mcclure</td>\n",
       "      <td>General Laborer</td>\n",
       "      <td>0.00</td>\n",
       "      <td>0.00</td>\n",
       "      <td>0.00</td>\n",
       "      <td>0.00</td>\n",
       "      <td>0.00</td>\n",
       "      <td>0.00</td>\n",
       "      <td>2014</td>\n",
       "      <td>NaN</td>\n",
       "      <td>San Francisco</td>\n",
       "      <td>PT</td>\n",
       "    </tr>\n",
       "    <tr>\n",
       "      <th>148629</th>\n",
       "      <td>148630</td>\n",
       "      <td>Elizabeth Iniguez</td>\n",
       "      <td>Transcriber Typist</td>\n",
       "      <td>0.00</td>\n",
       "      <td>0.00</td>\n",
       "      <td>0.00</td>\n",
       "      <td>0.00</td>\n",
       "      <td>0.00</td>\n",
       "      <td>0.00</td>\n",
       "      <td>2014</td>\n",
       "      <td>NaN</td>\n",
       "      <td>San Francisco</td>\n",
       "      <td>PT</td>\n",
       "    </tr>\n",
       "    <tr>\n",
       "      <th>148630</th>\n",
       "      <td>148631</td>\n",
       "      <td>Randy J Keys</td>\n",
       "      <td>Carpenter</td>\n",
       "      <td>0.00</td>\n",
       "      <td>0.00</td>\n",
       "      <td>0.00</td>\n",
       "      <td>0.00</td>\n",
       "      <td>0.00</td>\n",
       "      <td>0.00</td>\n",
       "      <td>2014</td>\n",
       "      <td>NaN</td>\n",
       "      <td>San Francisco</td>\n",
       "      <td>PT</td>\n",
       "    </tr>\n",
       "    <tr>\n",
       "      <th>148631</th>\n",
       "      <td>148632</td>\n",
       "      <td>Andre M Johnson</td>\n",
       "      <td>Communications Dispatcher 1</td>\n",
       "      <td>0.00</td>\n",
       "      <td>0.00</td>\n",
       "      <td>0.00</td>\n",
       "      <td>0.00</td>\n",
       "      <td>0.00</td>\n",
       "      <td>0.00</td>\n",
       "      <td>2014</td>\n",
       "      <td>NaN</td>\n",
       "      <td>San Francisco</td>\n",
       "      <td>PT</td>\n",
       "    </tr>\n",
       "    <tr>\n",
       "      <th>148632</th>\n",
       "      <td>148633</td>\n",
       "      <td>Sharon D Owens-Webster</td>\n",
       "      <td>Protective Services Worker</td>\n",
       "      <td>0.00</td>\n",
       "      <td>0.00</td>\n",
       "      <td>0.00</td>\n",
       "      <td>0.00</td>\n",
       "      <td>0.00</td>\n",
       "      <td>0.00</td>\n",
       "      <td>2014</td>\n",
       "      <td>NaN</td>\n",
       "      <td>San Francisco</td>\n",
       "      <td>PT</td>\n",
       "    </tr>\n",
       "    <tr>\n",
       "      <th>148633</th>\n",
       "      <td>148634</td>\n",
       "      <td>Edward Ferdinand</td>\n",
       "      <td>General Laborer</td>\n",
       "      <td>0.00</td>\n",
       "      <td>0.00</td>\n",
       "      <td>0.00</td>\n",
       "      <td>0.00</td>\n",
       "      <td>0.00</td>\n",
       "      <td>0.00</td>\n",
       "      <td>2014</td>\n",
       "      <td>NaN</td>\n",
       "      <td>San Francisco</td>\n",
       "      <td>PT</td>\n",
       "    </tr>\n",
       "    <tr>\n",
       "      <th>148634</th>\n",
       "      <td>148635</td>\n",
       "      <td>David M Turner</td>\n",
       "      <td>Transit Car Cleaner</td>\n",
       "      <td>0.00</td>\n",
       "      <td>0.00</td>\n",
       "      <td>0.00</td>\n",
       "      <td>0.00</td>\n",
       "      <td>0.00</td>\n",
       "      <td>0.00</td>\n",
       "      <td>2014</td>\n",
       "      <td>NaN</td>\n",
       "      <td>San Francisco</td>\n",
       "      <td>PT</td>\n",
       "    </tr>\n",
       "    <tr>\n",
       "      <th>148635</th>\n",
       "      <td>148636</td>\n",
       "      <td>James S Kibblewhite</td>\n",
       "      <td>General Laborer</td>\n",
       "      <td>0.00</td>\n",
       "      <td>0.00</td>\n",
       "      <td>0.00</td>\n",
       "      <td>0.00</td>\n",
       "      <td>0.00</td>\n",
       "      <td>0.00</td>\n",
       "      <td>2014</td>\n",
       "      <td>NaN</td>\n",
       "      <td>San Francisco</td>\n",
       "      <td>PT</td>\n",
       "    </tr>\n",
       "    <tr>\n",
       "      <th>148636</th>\n",
       "      <td>148637</td>\n",
       "      <td>Andrew J Enzi</td>\n",
       "      <td>Arborist Technician</td>\n",
       "      <td>0.00</td>\n",
       "      <td>0.00</td>\n",
       "      <td>0.00</td>\n",
       "      <td>0.00</td>\n",
       "      <td>0.00</td>\n",
       "      <td>0.00</td>\n",
       "      <td>2014</td>\n",
       "      <td>NaN</td>\n",
       "      <td>San Francisco</td>\n",
       "      <td>PT</td>\n",
       "    </tr>\n",
       "    <tr>\n",
       "      <th>148637</th>\n",
       "      <td>148638</td>\n",
       "      <td>Kadeshra D Green</td>\n",
       "      <td>Transit Fare Inspector</td>\n",
       "      <td>0.00</td>\n",
       "      <td>0.00</td>\n",
       "      <td>0.00</td>\n",
       "      <td>0.00</td>\n",
       "      <td>0.00</td>\n",
       "      <td>0.00</td>\n",
       "      <td>2014</td>\n",
       "      <td>NaN</td>\n",
       "      <td>San Francisco</td>\n",
       "      <td>PT</td>\n",
       "    </tr>\n",
       "    <tr>\n",
       "      <th>148638</th>\n",
       "      <td>148639</td>\n",
       "      <td>Lennard B Hutchinson</td>\n",
       "      <td>Electrician</td>\n",
       "      <td>0.00</td>\n",
       "      <td>0.00</td>\n",
       "      <td>0.00</td>\n",
       "      <td>0.00</td>\n",
       "      <td>0.00</td>\n",
       "      <td>0.00</td>\n",
       "      <td>2014</td>\n",
       "      <td>NaN</td>\n",
       "      <td>San Francisco</td>\n",
       "      <td>PT</td>\n",
       "    </tr>\n",
       "    <tr>\n",
       "      <th>148639</th>\n",
       "      <td>148640</td>\n",
       "      <td>Richard A Talbert</td>\n",
       "      <td>Custodian</td>\n",
       "      <td>0.00</td>\n",
       "      <td>0.00</td>\n",
       "      <td>0.00</td>\n",
       "      <td>0.00</td>\n",
       "      <td>0.00</td>\n",
       "      <td>0.00</td>\n",
       "      <td>2014</td>\n",
       "      <td>NaN</td>\n",
       "      <td>San Francisco</td>\n",
       "      <td>PT</td>\n",
       "    </tr>\n",
       "    <tr>\n",
       "      <th>148640</th>\n",
       "      <td>148641</td>\n",
       "      <td>Charlene D Mccully</td>\n",
       "      <td>Parking Control Officer</td>\n",
       "      <td>0.00</td>\n",
       "      <td>0.00</td>\n",
       "      <td>0.00</td>\n",
       "      <td>0.00</td>\n",
       "      <td>0.00</td>\n",
       "      <td>0.00</td>\n",
       "      <td>2014</td>\n",
       "      <td>NaN</td>\n",
       "      <td>San Francisco</td>\n",
       "      <td>PT</td>\n",
       "    </tr>\n",
       "    <tr>\n",
       "      <th>148641</th>\n",
       "      <td>148642</td>\n",
       "      <td>Raphael Marquis Goins</td>\n",
       "      <td>Museum Guard</td>\n",
       "      <td>0.00</td>\n",
       "      <td>0.00</td>\n",
       "      <td>0.00</td>\n",
       "      <td>0.00</td>\n",
       "      <td>0.00</td>\n",
       "      <td>0.00</td>\n",
       "      <td>2014</td>\n",
       "      <td>NaN</td>\n",
       "      <td>San Francisco</td>\n",
       "      <td>PT</td>\n",
       "    </tr>\n",
       "    <tr>\n",
       "      <th>148642</th>\n",
       "      <td>148643</td>\n",
       "      <td>Dominic C Marquez</td>\n",
       "      <td>Sign Worker</td>\n",
       "      <td>0.00</td>\n",
       "      <td>0.00</td>\n",
       "      <td>0.00</td>\n",
       "      <td>0.00</td>\n",
       "      <td>0.00</td>\n",
       "      <td>0.00</td>\n",
       "      <td>2014</td>\n",
       "      <td>NaN</td>\n",
       "      <td>San Francisco</td>\n",
       "      <td>PT</td>\n",
       "    </tr>\n",
       "    <tr>\n",
       "      <th>148643</th>\n",
       "      <td>148644</td>\n",
       "      <td>Kim Brewer</td>\n",
       "      <td>Parking Control Officer</td>\n",
       "      <td>0.00</td>\n",
       "      <td>0.00</td>\n",
       "      <td>0.00</td>\n",
       "      <td>0.00</td>\n",
       "      <td>0.00</td>\n",
       "      <td>0.00</td>\n",
       "      <td>2014</td>\n",
       "      <td>NaN</td>\n",
       "      <td>San Francisco</td>\n",
       "      <td>PT</td>\n",
       "    </tr>\n",
       "    <tr>\n",
       "      <th>148644</th>\n",
       "      <td>148645</td>\n",
       "      <td>Randy D Winn</td>\n",
       "      <td>Stationary Eng, Sewage Plant</td>\n",
       "      <td>0.00</td>\n",
       "      <td>0.00</td>\n",
       "      <td>0.00</td>\n",
       "      <td>0.00</td>\n",
       "      <td>0.00</td>\n",
       "      <td>0.00</td>\n",
       "      <td>2014</td>\n",
       "      <td>NaN</td>\n",
       "      <td>San Francisco</td>\n",
       "      <td>PT</td>\n",
       "    </tr>\n",
       "    <tr>\n",
       "      <th>148645</th>\n",
       "      <td>148646</td>\n",
       "      <td>Carolyn A Wilson</td>\n",
       "      <td>Human Services Technician</td>\n",
       "      <td>0.00</td>\n",
       "      <td>0.00</td>\n",
       "      <td>0.00</td>\n",
       "      <td>0.00</td>\n",
       "      <td>0.00</td>\n",
       "      <td>0.00</td>\n",
       "      <td>2014</td>\n",
       "      <td>NaN</td>\n",
       "      <td>San Francisco</td>\n",
       "      <td>PT</td>\n",
       "    </tr>\n",
       "    <tr>\n",
       "      <th>148646</th>\n",
       "      <td>148647</td>\n",
       "      <td>Not provided</td>\n",
       "      <td>Not provided</td>\n",
       "      <td>Not Provided</td>\n",
       "      <td>Not Provided</td>\n",
       "      <td>Not Provided</td>\n",
       "      <td>Not Provided</td>\n",
       "      <td>0.00</td>\n",
       "      <td>0.00</td>\n",
       "      <td>2014</td>\n",
       "      <td>NaN</td>\n",
       "      <td>San Francisco</td>\n",
       "      <td>NaN</td>\n",
       "    </tr>\n",
       "    <tr>\n",
       "      <th>148647</th>\n",
       "      <td>148648</td>\n",
       "      <td>Joann Anderson</td>\n",
       "      <td>Communications Dispatcher 2</td>\n",
       "      <td>0.00</td>\n",
       "      <td>0.00</td>\n",
       "      <td>0.00</td>\n",
       "      <td>0.00</td>\n",
       "      <td>0.00</td>\n",
       "      <td>0.00</td>\n",
       "      <td>2014</td>\n",
       "      <td>NaN</td>\n",
       "      <td>San Francisco</td>\n",
       "      <td>PT</td>\n",
       "    </tr>\n",
       "    <tr>\n",
       "      <th>148648</th>\n",
       "      <td>148649</td>\n",
       "      <td>Leon Walker</td>\n",
       "      <td>Custodian</td>\n",
       "      <td>0.00</td>\n",
       "      <td>0.00</td>\n",
       "      <td>0.00</td>\n",
       "      <td>0.00</td>\n",
       "      <td>0.00</td>\n",
       "      <td>0.00</td>\n",
       "      <td>2014</td>\n",
       "      <td>NaN</td>\n",
       "      <td>San Francisco</td>\n",
       "      <td>PT</td>\n",
       "    </tr>\n",
       "    <tr>\n",
       "      <th>148649</th>\n",
       "      <td>148650</td>\n",
       "      <td>Roy I Tillery</td>\n",
       "      <td>Custodian</td>\n",
       "      <td>0.00</td>\n",
       "      <td>0.00</td>\n",
       "      <td>0.00</td>\n",
       "      <td>0.00</td>\n",
       "      <td>0.00</td>\n",
       "      <td>0.00</td>\n",
       "      <td>2014</td>\n",
       "      <td>NaN</td>\n",
       "      <td>San Francisco</td>\n",
       "      <td>PT</td>\n",
       "    </tr>\n",
       "    <tr>\n",
       "      <th>148650</th>\n",
       "      <td>148651</td>\n",
       "      <td>Not provided</td>\n",
       "      <td>Not provided</td>\n",
       "      <td>Not Provided</td>\n",
       "      <td>Not Provided</td>\n",
       "      <td>Not Provided</td>\n",
       "      <td>Not Provided</td>\n",
       "      <td>0.00</td>\n",
       "      <td>0.00</td>\n",
       "      <td>2014</td>\n",
       "      <td>NaN</td>\n",
       "      <td>San Francisco</td>\n",
       "      <td>NaN</td>\n",
       "    </tr>\n",
       "    <tr>\n",
       "      <th>148651</th>\n",
       "      <td>148652</td>\n",
       "      <td>Not provided</td>\n",
       "      <td>Not provided</td>\n",
       "      <td>Not Provided</td>\n",
       "      <td>Not Provided</td>\n",
       "      <td>Not Provided</td>\n",
       "      <td>Not Provided</td>\n",
       "      <td>0.00</td>\n",
       "      <td>0.00</td>\n",
       "      <td>2014</td>\n",
       "      <td>NaN</td>\n",
       "      <td>San Francisco</td>\n",
       "      <td>NaN</td>\n",
       "    </tr>\n",
       "    <tr>\n",
       "      <th>148652</th>\n",
       "      <td>148653</td>\n",
       "      <td>Not provided</td>\n",
       "      <td>Not provided</td>\n",
       "      <td>Not Provided</td>\n",
       "      <td>Not Provided</td>\n",
       "      <td>Not Provided</td>\n",
       "      <td>Not Provided</td>\n",
       "      <td>0.00</td>\n",
       "      <td>0.00</td>\n",
       "      <td>2014</td>\n",
       "      <td>NaN</td>\n",
       "      <td>San Francisco</td>\n",
       "      <td>NaN</td>\n",
       "    </tr>\n",
       "    <tr>\n",
       "      <th>148653</th>\n",
       "      <td>148654</td>\n",
       "      <td>Joe Lopez</td>\n",
       "      <td>Counselor, Log Cabin Ranch</td>\n",
       "      <td>0.00</td>\n",
       "      <td>0.00</td>\n",
       "      <td>-618.13</td>\n",
       "      <td>0.00</td>\n",
       "      <td>-618.13</td>\n",
       "      <td>-618.13</td>\n",
       "      <td>2014</td>\n",
       "      <td>NaN</td>\n",
       "      <td>San Francisco</td>\n",
       "      <td>PT</td>\n",
       "    </tr>\n",
       "  </tbody>\n",
       "</table>\n",
       "<p>148654 rows × 13 columns</p>\n",
       "</div>"
      ],
      "text/plain": [
       "            Id            EmployeeName  \\\n",
       "0            1          NATHANIEL FORD   \n",
       "1            2            GARY JIMENEZ   \n",
       "2            3          ALBERT PARDINI   \n",
       "3            4       CHRISTOPHER CHONG   \n",
       "4            5         PATRICK GARDNER   \n",
       "5            6          DAVID SULLIVAN   \n",
       "6            7               ALSON LEE   \n",
       "7            8           DAVID KUSHNER   \n",
       "8            9          MICHAEL MORRIS   \n",
       "9           10      JOANNE HAYES-WHITE   \n",
       "10          11           ARTHUR KENNEY   \n",
       "11          12        PATRICIA JACKSON   \n",
       "12          13       EDWARD HARRINGTON   \n",
       "13          14             JOHN MARTIN   \n",
       "14          15          DAVID FRANKLIN   \n",
       "15          16         RICHARD CORRIEA   \n",
       "16          17                AMY HART   \n",
       "17          18          SEBASTIAN WONG   \n",
       "18          19              MARTY ROSS   \n",
       "19          20           ELLEN MOFFATT   \n",
       "20          21              VENUS AZAR   \n",
       "21          22            JUDY MELINEK   \n",
       "22          23           GEORGE GARCIA   \n",
       "23          24           VICTOR WYRSCH   \n",
       "24          25         JOSEPH DRISCOLL   \n",
       "25          26            GREGORY SUHR   \n",
       "26          27             JOHN HANLEY   \n",
       "27          28          RAYMOND GUZMAN   \n",
       "28          29          DENISE SCHMITT   \n",
       "29          30           MONICA FIELDS   \n",
       "...        ...                     ...   \n",
       "148624  148625      Lorraine Rosenthal   \n",
       "148625  148626         Renato C Gurion   \n",
       "148626  148627           Paulet Gaines   \n",
       "148627  148628        Brett A Lundberg   \n",
       "148628  148629          Mark W Mcclure   \n",
       "148629  148630       Elizabeth Iniguez   \n",
       "148630  148631            Randy J Keys   \n",
       "148631  148632         Andre M Johnson   \n",
       "148632  148633  Sharon D Owens-Webster   \n",
       "148633  148634        Edward Ferdinand   \n",
       "148634  148635          David M Turner   \n",
       "148635  148636     James S Kibblewhite   \n",
       "148636  148637           Andrew J Enzi   \n",
       "148637  148638        Kadeshra D Green   \n",
       "148638  148639    Lennard B Hutchinson   \n",
       "148639  148640       Richard A Talbert   \n",
       "148640  148641      Charlene D Mccully   \n",
       "148641  148642   Raphael Marquis Goins   \n",
       "148642  148643       Dominic C Marquez   \n",
       "148643  148644              Kim Brewer   \n",
       "148644  148645            Randy D Winn   \n",
       "148645  148646        Carolyn A Wilson   \n",
       "148646  148647            Not provided   \n",
       "148647  148648          Joann Anderson   \n",
       "148648  148649             Leon Walker   \n",
       "148649  148650           Roy I Tillery   \n",
       "148650  148651            Not provided   \n",
       "148651  148652            Not provided   \n",
       "148652  148653            Not provided   \n",
       "148653  148654               Joe Lopez   \n",
       "\n",
       "                                                JobTitle       BasePay  \\\n",
       "0         GENERAL MANAGER-METROPOLITAN TRANSIT AUTHORITY        167411   \n",
       "1                        CAPTAIN III (POLICE DEPARTMENT)        155966   \n",
       "2                        CAPTAIN III (POLICE DEPARTMENT)        212739   \n",
       "3                   WIRE ROPE CABLE MAINTENANCE MECHANIC         77916   \n",
       "4           DEPUTY CHIEF OF DEPARTMENT,(FIRE DEPARTMENT)        134402   \n",
       "5                              ASSISTANT DEPUTY CHIEF II        118602   \n",
       "6                     BATTALION CHIEF, (FIRE DEPARTMENT)         92492   \n",
       "7                         DEPUTY DIRECTOR OF INVESTMENTS        256577   \n",
       "8                     BATTALION CHIEF, (FIRE DEPARTMENT)        176933   \n",
       "9                 CHIEF OF DEPARTMENT, (FIRE DEPARTMENT)        285262   \n",
       "10      ASSISTANT CHIEF OF DEPARTMENT, (FIRE DEPARTMENT)        194999   \n",
       "11                       CAPTAIN III (POLICE DEPARTMENT)         99722   \n",
       "12                           EXECUTIVE CONTRACT EMPLOYEE        294580   \n",
       "13                                     DEPARTMENT HEAD V        271329   \n",
       "14                    BATTALION CHIEF, (FIRE DEPARTMENT)        174873   \n",
       "15                    COMMANDER III, (POLICE DEPARTMENT)        198778   \n",
       "16                                     DEPARTMENT HEAD V        268605   \n",
       "17                 CAPTAIN, EMERGENCYCY MEDICAL SERVICES        140547   \n",
       "18                    BATTALION CHIEF, (FIRE DEPARTMENT)        168693   \n",
       "19                            ASSISTANT MEDICAL EXAMINER        257511   \n",
       "20                            ASSISTANT MEDICAL EXAMINER        257510   \n",
       "21                            ASSISTANT MEDICAL EXAMINER        257510   \n",
       "22                             CAPTAIN, FIRE SUPPRESSION        140547   \n",
       "23                    BATTALION CHIEF, (FIRE DEPARTMENT)        168693   \n",
       "24                             CAPTAIN, FIRE SUPPRESSION        140547   \n",
       "25                                       CHIEF OF POLICE        256470   \n",
       "26                             CAPTAIN, FIRE SUPPRESSION       92080.8   \n",
       "27                    BATTALION CHIEF, (FIRE DEPARTMENT)        168693   \n",
       "28                  DEPUTY CHIEF III (POLICE DEPARTMENT)        261718   \n",
       "29          DEPUTY CHIEF OF DEPARTMENT,(FIRE DEPARTMENT)        246226   \n",
       "...                                                  ...           ...   \n",
       "148624                                      Senior Clerk          0.00   \n",
       "148625                                  Registered Nurse          0.00   \n",
       "148626                                     Account Clerk          0.00   \n",
       "148627                                   General Laborer          0.00   \n",
       "148628                                   General Laborer          0.00   \n",
       "148629                                Transcriber Typist          0.00   \n",
       "148630                                         Carpenter          0.00   \n",
       "148631                       Communications Dispatcher 1          0.00   \n",
       "148632                        Protective Services Worker          0.00   \n",
       "148633                                   General Laborer          0.00   \n",
       "148634                               Transit Car Cleaner          0.00   \n",
       "148635                                   General Laborer          0.00   \n",
       "148636                               Arborist Technician          0.00   \n",
       "148637                            Transit Fare Inspector          0.00   \n",
       "148638                                       Electrician          0.00   \n",
       "148639                                         Custodian          0.00   \n",
       "148640                           Parking Control Officer          0.00   \n",
       "148641                                      Museum Guard          0.00   \n",
       "148642                                       Sign Worker          0.00   \n",
       "148643                           Parking Control Officer          0.00   \n",
       "148644                      Stationary Eng, Sewage Plant          0.00   \n",
       "148645                         Human Services Technician          0.00   \n",
       "148646                                      Not provided  Not Provided   \n",
       "148647                       Communications Dispatcher 2          0.00   \n",
       "148648                                         Custodian          0.00   \n",
       "148649                                         Custodian          0.00   \n",
       "148650                                      Not provided  Not Provided   \n",
       "148651                                      Not provided  Not Provided   \n",
       "148652                                      Not provided  Not Provided   \n",
       "148653                        Counselor, Log Cabin Ranch          0.00   \n",
       "\n",
       "         OvertimePay      OtherPay      Benefits   TotalPay  TotalPayBenefits  \\\n",
       "0                  0        400184           NaN  567595.43         567595.43   \n",
       "1             245132        137811           NaN  538909.28         538909.28   \n",
       "2             106088       16452.6           NaN  335279.91         335279.91   \n",
       "3            56120.7        198307           NaN  332343.61         332343.61   \n",
       "4               9737        182235           NaN  326373.19         326373.19   \n",
       "5               8601        189083           NaN  316285.74         316285.74   \n",
       "6            89062.9        134426           NaN  315981.05         315981.05   \n",
       "7                  0       51322.5           NaN  307899.46         307899.46   \n",
       "8            86362.7       40132.2           NaN  303427.55         303427.55   \n",
       "9                  0       17115.7           NaN  302377.73         302377.73   \n",
       "10           71344.9       33149.9           NaN  299494.17         299494.17   \n",
       "11           87082.6        110804           NaN  297608.92         297608.92   \n",
       "12                 0             0           NaN  294580.02         294580.02   \n",
       "13                 0       21342.6           NaN  292671.62         292671.62   \n",
       "14           74050.3       37424.1           NaN  286347.05         286347.05   \n",
       "15           73478.2       13957.6           NaN  286213.86         286213.86   \n",
       "16                 0       16115.9           NaN  284720.43         284720.43   \n",
       "17            119397       18625.1           NaN  278569.21         278569.21   \n",
       "18           69626.1       38115.5           NaN  276434.22         276434.22   \n",
       "19            880.16       16159.5           NaN  274550.25         274550.25   \n",
       "20                 0       16679.8           NaN  274190.27         274190.27   \n",
       "21            377.21       15883.6           NaN  273771.21         273771.21   \n",
       "22           93200.6       39955.2           NaN  273702.71         273702.71   \n",
       "23           77896.1       24083.9           NaN  270672.63         270672.63   \n",
       "24           97868.8       31909.3           NaN  270324.91         270324.91   \n",
       "25                 0       11522.2           NaN  267992.59         267992.59   \n",
       "26             40008        133696           NaN  265784.56         265784.56   \n",
       "27           80706.9         16064           NaN  265463.46         265463.46   \n",
       "28                 0          2357           NaN  264074.60         264074.60   \n",
       "29                 0       15140.5           NaN  261366.14         261366.14   \n",
       "...              ...           ...           ...        ...               ...   \n",
       "148624          0.00         12.89          0.00      12.89             12.89   \n",
       "148625          0.00          6.00          1.24       6.00              7.24   \n",
       "148626          0.00          0.00          0.00       0.00              0.00   \n",
       "148627          0.00          0.00          0.00       0.00              0.00   \n",
       "148628          0.00          0.00          0.00       0.00              0.00   \n",
       "148629          0.00          0.00          0.00       0.00              0.00   \n",
       "148630          0.00          0.00          0.00       0.00              0.00   \n",
       "148631          0.00          0.00          0.00       0.00              0.00   \n",
       "148632          0.00          0.00          0.00       0.00              0.00   \n",
       "148633          0.00          0.00          0.00       0.00              0.00   \n",
       "148634          0.00          0.00          0.00       0.00              0.00   \n",
       "148635          0.00          0.00          0.00       0.00              0.00   \n",
       "148636          0.00          0.00          0.00       0.00              0.00   \n",
       "148637          0.00          0.00          0.00       0.00              0.00   \n",
       "148638          0.00          0.00          0.00       0.00              0.00   \n",
       "148639          0.00          0.00          0.00       0.00              0.00   \n",
       "148640          0.00          0.00          0.00       0.00              0.00   \n",
       "148641          0.00          0.00          0.00       0.00              0.00   \n",
       "148642          0.00          0.00          0.00       0.00              0.00   \n",
       "148643          0.00          0.00          0.00       0.00              0.00   \n",
       "148644          0.00          0.00          0.00       0.00              0.00   \n",
       "148645          0.00          0.00          0.00       0.00              0.00   \n",
       "148646  Not Provided  Not Provided  Not Provided       0.00              0.00   \n",
       "148647          0.00          0.00          0.00       0.00              0.00   \n",
       "148648          0.00          0.00          0.00       0.00              0.00   \n",
       "148649          0.00          0.00          0.00       0.00              0.00   \n",
       "148650  Not Provided  Not Provided  Not Provided       0.00              0.00   \n",
       "148651  Not Provided  Not Provided  Not Provided       0.00              0.00   \n",
       "148652  Not Provided  Not Provided  Not Provided       0.00              0.00   \n",
       "148653          0.00       -618.13          0.00    -618.13           -618.13   \n",
       "\n",
       "        Year  Notes         Agency Status  \n",
       "0       2011    NaN  San Francisco    NaN  \n",
       "1       2011    NaN  San Francisco    NaN  \n",
       "2       2011    NaN  San Francisco    NaN  \n",
       "3       2011    NaN  San Francisco    NaN  \n",
       "4       2011    NaN  San Francisco    NaN  \n",
       "5       2011    NaN  San Francisco    NaN  \n",
       "6       2011    NaN  San Francisco    NaN  \n",
       "7       2011    NaN  San Francisco    NaN  \n",
       "8       2011    NaN  San Francisco    NaN  \n",
       "9       2011    NaN  San Francisco    NaN  \n",
       "10      2011    NaN  San Francisco    NaN  \n",
       "11      2011    NaN  San Francisco    NaN  \n",
       "12      2011    NaN  San Francisco    NaN  \n",
       "13      2011    NaN  San Francisco    NaN  \n",
       "14      2011    NaN  San Francisco    NaN  \n",
       "15      2011    NaN  San Francisco    NaN  \n",
       "16      2011    NaN  San Francisco    NaN  \n",
       "17      2011    NaN  San Francisco    NaN  \n",
       "18      2011    NaN  San Francisco    NaN  \n",
       "19      2011    NaN  San Francisco    NaN  \n",
       "20      2011    NaN  San Francisco    NaN  \n",
       "21      2011    NaN  San Francisco    NaN  \n",
       "22      2011    NaN  San Francisco    NaN  \n",
       "23      2011    NaN  San Francisco    NaN  \n",
       "24      2011    NaN  San Francisco    NaN  \n",
       "25      2011    NaN  San Francisco    NaN  \n",
       "26      2011    NaN  San Francisco    NaN  \n",
       "27      2011    NaN  San Francisco    NaN  \n",
       "28      2011    NaN  San Francisco    NaN  \n",
       "29      2011    NaN  San Francisco    NaN  \n",
       "...      ...    ...            ...    ...  \n",
       "148624  2014    NaN  San Francisco     PT  \n",
       "148625  2014    NaN  San Francisco     PT  \n",
       "148626  2014    NaN  San Francisco     PT  \n",
       "148627  2014    NaN  San Francisco     PT  \n",
       "148628  2014    NaN  San Francisco     PT  \n",
       "148629  2014    NaN  San Francisco     PT  \n",
       "148630  2014    NaN  San Francisco     PT  \n",
       "148631  2014    NaN  San Francisco     PT  \n",
       "148632  2014    NaN  San Francisco     PT  \n",
       "148633  2014    NaN  San Francisco     PT  \n",
       "148634  2014    NaN  San Francisco     PT  \n",
       "148635  2014    NaN  San Francisco     PT  \n",
       "148636  2014    NaN  San Francisco     PT  \n",
       "148637  2014    NaN  San Francisco     PT  \n",
       "148638  2014    NaN  San Francisco     PT  \n",
       "148639  2014    NaN  San Francisco     PT  \n",
       "148640  2014    NaN  San Francisco     PT  \n",
       "148641  2014    NaN  San Francisco     PT  \n",
       "148642  2014    NaN  San Francisco     PT  \n",
       "148643  2014    NaN  San Francisco     PT  \n",
       "148644  2014    NaN  San Francisco     PT  \n",
       "148645  2014    NaN  San Francisco     PT  \n",
       "148646  2014    NaN  San Francisco    NaN  \n",
       "148647  2014    NaN  San Francisco     PT  \n",
       "148648  2014    NaN  San Francisco     PT  \n",
       "148649  2014    NaN  San Francisco     PT  \n",
       "148650  2014    NaN  San Francisco    NaN  \n",
       "148651  2014    NaN  San Francisco    NaN  \n",
       "148652  2014    NaN  San Francisco    NaN  \n",
       "148653  2014    NaN  San Francisco     PT  \n",
       "\n",
       "[148654 rows x 13 columns]"
      ]
     },
     "execution_count": 5,
     "metadata": {},
     "output_type": "execute_result"
    }
   ],
   "source": [
    "sf"
   ]
  },
  {
   "cell_type": "code",
   "execution_count": 6,
   "metadata": {
    "collapsed": false
   },
   "outputs": [
    {
     "name": "stderr",
     "output_type": "stream",
     "text": [
      "C:\\Users\\Karan\\Anaconda2\\lib\\site-packages\\numpy\\lib\\function_base.py:3834: RuntimeWarning: Invalid value encountered in percentile\n",
      "  RuntimeWarning)\n"
     ]
    },
    {
     "data": {
      "text/html": [
       "<div>\n",
       "<table border=\"1\" class=\"dataframe\">\n",
       "  <thead>\n",
       "    <tr style=\"text-align: right;\">\n",
       "      <th></th>\n",
       "      <th>Id</th>\n",
       "      <th>TotalPay</th>\n",
       "      <th>TotalPayBenefits</th>\n",
       "      <th>Year</th>\n",
       "      <th>Notes</th>\n",
       "    </tr>\n",
       "  </thead>\n",
       "  <tbody>\n",
       "    <tr>\n",
       "      <th>count</th>\n",
       "      <td>148654.000000</td>\n",
       "      <td>148654.000000</td>\n",
       "      <td>148654.000000</td>\n",
       "      <td>148654.000000</td>\n",
       "      <td>0.0</td>\n",
       "    </tr>\n",
       "    <tr>\n",
       "      <th>mean</th>\n",
       "      <td>74327.500000</td>\n",
       "      <td>74768.321972</td>\n",
       "      <td>93692.554811</td>\n",
       "      <td>2012.522643</td>\n",
       "      <td>NaN</td>\n",
       "    </tr>\n",
       "    <tr>\n",
       "      <th>std</th>\n",
       "      <td>42912.857795</td>\n",
       "      <td>50517.005274</td>\n",
       "      <td>62793.533483</td>\n",
       "      <td>1.117538</td>\n",
       "      <td>NaN</td>\n",
       "    </tr>\n",
       "    <tr>\n",
       "      <th>min</th>\n",
       "      <td>1.000000</td>\n",
       "      <td>-618.130000</td>\n",
       "      <td>-618.130000</td>\n",
       "      <td>2011.000000</td>\n",
       "      <td>NaN</td>\n",
       "    </tr>\n",
       "    <tr>\n",
       "      <th>25%</th>\n",
       "      <td>37164.250000</td>\n",
       "      <td>36168.995000</td>\n",
       "      <td>44065.650000</td>\n",
       "      <td>2012.000000</td>\n",
       "      <td>NaN</td>\n",
       "    </tr>\n",
       "    <tr>\n",
       "      <th>50%</th>\n",
       "      <td>74327.500000</td>\n",
       "      <td>71426.610000</td>\n",
       "      <td>92404.090000</td>\n",
       "      <td>2013.000000</td>\n",
       "      <td>NaN</td>\n",
       "    </tr>\n",
       "    <tr>\n",
       "      <th>75%</th>\n",
       "      <td>111490.750000</td>\n",
       "      <td>105839.135000</td>\n",
       "      <td>132876.450000</td>\n",
       "      <td>2014.000000</td>\n",
       "      <td>NaN</td>\n",
       "    </tr>\n",
       "    <tr>\n",
       "      <th>max</th>\n",
       "      <td>148654.000000</td>\n",
       "      <td>567595.430000</td>\n",
       "      <td>567595.430000</td>\n",
       "      <td>2014.000000</td>\n",
       "      <td>NaN</td>\n",
       "    </tr>\n",
       "  </tbody>\n",
       "</table>\n",
       "</div>"
      ],
      "text/plain": [
       "                  Id       TotalPay  TotalPayBenefits           Year  Notes\n",
       "count  148654.000000  148654.000000     148654.000000  148654.000000    0.0\n",
       "mean    74327.500000   74768.321972      93692.554811    2012.522643    NaN\n",
       "std     42912.857795   50517.005274      62793.533483       1.117538    NaN\n",
       "min         1.000000    -618.130000       -618.130000    2011.000000    NaN\n",
       "25%     37164.250000   36168.995000      44065.650000    2012.000000    NaN\n",
       "50%     74327.500000   71426.610000      92404.090000    2013.000000    NaN\n",
       "75%    111490.750000  105839.135000     132876.450000    2014.000000    NaN\n",
       "max    148654.000000  567595.430000     567595.430000    2014.000000    NaN"
      ]
     },
     "execution_count": 6,
     "metadata": {},
     "output_type": "execute_result"
    }
   ],
   "source": [
    "sf.describe()"
   ]
  },
  {
   "cell_type": "code",
   "execution_count": 7,
   "metadata": {
    "collapsed": true
   },
   "outputs": [],
   "source": [
    "def categorical_variable(df):\n",
    "        \"\"\"\n",
    "        Just like .describe(), but returns the results for\n",
    "        categorical variables only.\n",
    "        \"\"\"\n",
    "        from IPython.display import display, HTML\n",
    "        display(HTML(sf[sf.columns[sf.dtypes == \"object\"]].describe().to_html()))"
   ]
  },
  {
   "cell_type": "code",
   "execution_count": 8,
   "metadata": {
    "collapsed": false
   },
   "outputs": [
    {
     "data": {
      "text/html": [
       "<table border=\"1\" class=\"dataframe\">\n",
       "  <thead>\n",
       "    <tr style=\"text-align: right;\">\n",
       "      <th></th>\n",
       "      <th>EmployeeName</th>\n",
       "      <th>JobTitle</th>\n",
       "      <th>BasePay</th>\n",
       "      <th>OvertimePay</th>\n",
       "      <th>OtherPay</th>\n",
       "      <th>Benefits</th>\n",
       "      <th>Agency</th>\n",
       "      <th>Status</th>\n",
       "    </tr>\n",
       "  </thead>\n",
       "  <tbody>\n",
       "    <tr>\n",
       "      <th>count</th>\n",
       "      <td>148654</td>\n",
       "      <td>148654</td>\n",
       "      <td>148049.0</td>\n",
       "      <td>148654.0</td>\n",
       "      <td>148654.0</td>\n",
       "      <td>112495.0</td>\n",
       "      <td>148654</td>\n",
       "      <td>38119</td>\n",
       "    </tr>\n",
       "    <tr>\n",
       "      <th>unique</th>\n",
       "      <td>110811</td>\n",
       "      <td>2159</td>\n",
       "      <td>109900.0</td>\n",
       "      <td>66555.0</td>\n",
       "      <td>84968.0</td>\n",
       "      <td>99635.0</td>\n",
       "      <td>1</td>\n",
       "      <td>2</td>\n",
       "    </tr>\n",
       "    <tr>\n",
       "      <th>top</th>\n",
       "      <td>Kevin Lee</td>\n",
       "      <td>Transit Operator</td>\n",
       "      <td>0.0</td>\n",
       "      <td>0.0</td>\n",
       "      <td>0.0</td>\n",
       "      <td>0.0</td>\n",
       "      <td>San Francisco</td>\n",
       "      <td>FT</td>\n",
       "    </tr>\n",
       "    <tr>\n",
       "      <th>freq</th>\n",
       "      <td>13</td>\n",
       "      <td>7036</td>\n",
       "      <td>875.0</td>\n",
       "      <td>66103.0</td>\n",
       "      <td>35218.0</td>\n",
       "      <td>1053.0</td>\n",
       "      <td>148654</td>\n",
       "      <td>22334</td>\n",
       "    </tr>\n",
       "  </tbody>\n",
       "</table>"
      ],
      "text/plain": [
       "<IPython.core.display.HTML object>"
      ]
     },
     "metadata": {},
     "output_type": "display_data"
    }
   ],
   "source": [
    "categorical_variable(sf)"
   ]
  },
  {
   "cell_type": "code",
   "execution_count": 9,
   "metadata": {
    "collapsed": false
   },
   "outputs": [
    {
     "data": {
      "text/plain": [
       "0.0          875\n",
       "0.00         423\n",
       "54703.00     327\n",
       "55026.0      297\n",
       "48472.4      210\n",
       "65448.0      153\n",
       "121068.0     152\n",
       "68391.0      152\n",
       "88374.0      151\n",
       "51492.8      143\n",
       "94191.0      137\n",
       "116584.0     127\n",
       "105934.66    117\n",
       "105934.67    114\n",
       "51502.0      110\n",
       "67948.0      109\n",
       "63995.0      103\n",
       "60206.6      101\n",
       "86840.0       95\n",
       "105934.65     94\n",
       "72144.0       86\n",
       "116956.71     85\n",
       "81830.0       84\n",
       "79222.0       82\n",
       "88062.0       82\n",
       "112703.74     79\n",
       "83160.0       77\n",
       "61128.0       77\n",
       "109783.86     74\n",
       "57630.6       73\n",
       "            ... \n",
       "71263.27       1\n",
       "29672.65       1\n",
       "11547.16       1\n",
       "17714.33       1\n",
       "79192.2        1\n",
       "118073.7       1\n",
       "8546.80        1\n",
       "56075.89       1\n",
       "47299.47       1\n",
       "48475.71       1\n",
       "30254.4        1\n",
       "157975.9       1\n",
       "50878.93       1\n",
       "75984.53       1\n",
       "17678.46       1\n",
       "91978.82       1\n",
       "55462.19       1\n",
       "84814.03       1\n",
       "76558.9        1\n",
       "87298.1        1\n",
       "422.11         1\n",
       "9991.53        1\n",
       "127207.77      1\n",
       "97461.09       1\n",
       "51751.4        1\n",
       "93325.99       1\n",
       "154575.03      1\n",
       "111890.97      1\n",
       "7996.06        1\n",
       "62521.01       1\n",
       "Name: BasePay, dtype: int64"
      ]
     },
     "execution_count": 9,
     "metadata": {},
     "output_type": "execute_result"
    }
   ],
   "source": [
    "sf.BasePay.value_counts()"
   ]
  },
  {
   "cell_type": "code",
   "execution_count": 10,
   "metadata": {
    "collapsed": false
   },
   "outputs": [
    {
     "data": {
      "text/plain": [
       "0.00         368\n",
       "18594.00      82\n",
       "123290.70     56\n",
       "132242.50     49\n",
       "105489.00     42\n",
       "17085.00      39\n",
       "50913.30      39\n",
       "1196.00       38\n",
       "2195.08       38\n",
       "46175.10      37\n",
       "23757.50      35\n",
       "250.00        34\n",
       "2115.00       33\n",
       "66096.00      33\n",
       "40988.18      33\n",
       "24656.00      31\n",
       "1199.90       30\n",
       "125.00        28\n",
       "150.00        28\n",
       "168419.82     27\n",
       "65448.00      27\n",
       "1200.00       26\n",
       "300.00        26\n",
       "57630.60      24\n",
       "53539.40      24\n",
       "72144.00      24\n",
       "83160.00      24\n",
       "1242.00       23\n",
       "97461.00      23\n",
       "743.90        23\n",
       "            ... \n",
       "24281.50       1\n",
       "7078.25        1\n",
       "62513.11       1\n",
       "83121.50       1\n",
       "19285.50       1\n",
       "9534.75        1\n",
       "64263.17       1\n",
       "63596.22       1\n",
       "9771.25        1\n",
       "139986.79      1\n",
       "57507.43       1\n",
       "16495.76       1\n",
       "104502.84      1\n",
       "896.25         1\n",
       "14876.75       1\n",
       "3937.44        1\n",
       "50191.32       1\n",
       "6800.75        1\n",
       "79856.99       1\n",
       "152317.82      1\n",
       "59662.70       1\n",
       "65882.06       1\n",
       "95330.03       1\n",
       "76403.07       1\n",
       "94264.16       1\n",
       "80032.09       1\n",
       "5855.02        1\n",
       "100268.68      1\n",
       "882.50         1\n",
       "32056.50       1\n",
       "Name: TotalPay, dtype: int64"
      ]
     },
     "execution_count": 10,
     "metadata": {},
     "output_type": "execute_result"
    }
   ],
   "source": [
    "sf.TotalPay.value_counts()"
   ]
  },
  {
   "cell_type": "code",
   "execution_count": 11,
   "metadata": {
    "collapsed": false
   },
   "outputs": [
    {
     "data": {
      "text/plain": [
       "0.0         1053\n",
       "0.00         681\n",
       "7959.18      348\n",
       "4659.36      107\n",
       "25699.2       83\n",
       "37055.22      82\n",
       "27052.98      70\n",
       "37025.18      60\n",
       "36097.33      57\n",
       "34150.93      53\n",
       "38280.39      51\n",
       "35884.33      51\n",
       "39396.66      49\n",
       "36412.57      47\n",
       "35445.1       44\n",
       "25954.76      44\n",
       "7464.70       43\n",
       "37040.2       43\n",
       "26642.48      43\n",
       "41406.59      40\n",
       "41858.98      40\n",
       "35732.23      39\n",
       "41366.1       38\n",
       "450.37        37\n",
       "7065.1        36\n",
       "18323.88      36\n",
       "24669.82      35\n",
       "35703.87      35\n",
       "35134.88      35\n",
       "24682.65      35\n",
       "            ... \n",
       "6290.33        1\n",
       "39584.08       1\n",
       "1747.87        1\n",
       "3591.55        1\n",
       "18.22          1\n",
       "38492.87       1\n",
       "40898.56       1\n",
       "11597.34       1\n",
       "34503.83       1\n",
       "45580.62       1\n",
       "52.23          1\n",
       "31825.31       1\n",
       "31622.58       1\n",
       "28792.91       1\n",
       "46336.17       1\n",
       "57423.34       1\n",
       "34175.96       1\n",
       "23496.54       1\n",
       "32192.81       1\n",
       "52069.99       1\n",
       "19004.42       1\n",
       "58397.07       1\n",
       "26802.16       1\n",
       "34100.41       1\n",
       "75.98          1\n",
       "2090.91        1\n",
       "32012.15       1\n",
       "8201.43        1\n",
       "63021.35       1\n",
       "26224.5        1\n",
       "Name: Benefits, dtype: int64"
      ]
     },
     "execution_count": 11,
     "metadata": {},
     "output_type": "execute_result"
    }
   ],
   "source": [
    "sf.Benefits.value_counts()\n"
   ]
  },
  {
   "cell_type": "code",
   "execution_count": 12,
   "metadata": {
    "collapsed": false
   },
   "outputs": [
    {
     "data": {
      "text/html": [
       "<div>\n",
       "<table border=\"1\" class=\"dataframe\">\n",
       "  <thead>\n",
       "    <tr style=\"text-align: right;\">\n",
       "      <th></th>\n",
       "      <th>Id</th>\n",
       "      <th>TotalPay</th>\n",
       "      <th>TotalPayBenefits</th>\n",
       "      <th>Year</th>\n",
       "      <th>Notes</th>\n",
       "    </tr>\n",
       "  </thead>\n",
       "  <tbody>\n",
       "    <tr>\n",
       "      <th>0</th>\n",
       "      <td>1</td>\n",
       "      <td>567595.43</td>\n",
       "      <td>567595.43</td>\n",
       "      <td>2011</td>\n",
       "      <td>NaN</td>\n",
       "    </tr>\n",
       "    <tr>\n",
       "      <th>1</th>\n",
       "      <td>2</td>\n",
       "      <td>538909.28</td>\n",
       "      <td>538909.28</td>\n",
       "      <td>2011</td>\n",
       "      <td>NaN</td>\n",
       "    </tr>\n",
       "    <tr>\n",
       "      <th>2</th>\n",
       "      <td>3</td>\n",
       "      <td>335279.91</td>\n",
       "      <td>335279.91</td>\n",
       "      <td>2011</td>\n",
       "      <td>NaN</td>\n",
       "    </tr>\n",
       "    <tr>\n",
       "      <th>3</th>\n",
       "      <td>4</td>\n",
       "      <td>332343.61</td>\n",
       "      <td>332343.61</td>\n",
       "      <td>2011</td>\n",
       "      <td>NaN</td>\n",
       "    </tr>\n",
       "    <tr>\n",
       "      <th>4</th>\n",
       "      <td>5</td>\n",
       "      <td>326373.19</td>\n",
       "      <td>326373.19</td>\n",
       "      <td>2011</td>\n",
       "      <td>NaN</td>\n",
       "    </tr>\n",
       "  </tbody>\n",
       "</table>\n",
       "</div>"
      ],
      "text/plain": [
       "   Id   TotalPay  TotalPayBenefits  Year  Notes\n",
       "0   1  567595.43         567595.43  2011    NaN\n",
       "1   2  538909.28         538909.28  2011    NaN\n",
       "2   3  335279.91         335279.91  2011    NaN\n",
       "3   4  332343.61         332343.61  2011    NaN\n",
       "4   5  326373.19         326373.19  2011    NaN"
      ]
     },
     "execution_count": 12,
     "metadata": {},
     "output_type": "execute_result"
    }
   ],
   "source": [
    "numeric_variables = list(sf.dtypes[sf.dtypes != \"object\"].index)\n",
    "sf[numeric_variables].head()"
   ]
  },
  {
   "cell_type": "markdown",
   "metadata": {},
   "source": [
    "** *EDA for Id* **"
   ]
  },
  {
   "cell_type": "code",
   "execution_count": 13,
   "metadata": {
    "collapsed": false
   },
   "outputs": [
    {
     "data": {
      "text/plain": [
       "count    148654.000000\n",
       "mean      74327.500000\n",
       "std       42912.857795\n",
       "min           1.000000\n",
       "25%       37164.250000\n",
       "50%       74327.500000\n",
       "75%      111490.750000\n",
       "max      148654.000000\n",
       "Name: Id, dtype: float64"
      ]
     },
     "execution_count": 13,
     "metadata": {},
     "output_type": "execute_result"
    }
   ],
   "source": [
    "sf.Id.describe()"
   ]
  },
  {
   "cell_type": "code",
   "execution_count": 14,
   "metadata": {
    "collapsed": false
   },
   "outputs": [
    {
     "data": {
      "text/html": [
       "<div>\n",
       "<table border=\"1\" class=\"dataframe\">\n",
       "  <thead>\n",
       "    <tr style=\"text-align: right;\">\n",
       "      <th></th>\n",
       "      <th>Id</th>\n",
       "      <th>EmployeeName</th>\n",
       "      <th>JobTitle</th>\n",
       "      <th>BasePay</th>\n",
       "      <th>OvertimePay</th>\n",
       "      <th>OtherPay</th>\n",
       "      <th>Benefits</th>\n",
       "      <th>TotalPay</th>\n",
       "      <th>TotalPayBenefits</th>\n",
       "      <th>Year</th>\n",
       "      <th>Notes</th>\n",
       "      <th>Agency</th>\n",
       "      <th>Status</th>\n",
       "    </tr>\n",
       "  </thead>\n",
       "  <tbody>\n",
       "  </tbody>\n",
       "</table>\n",
       "</div>"
      ],
      "text/plain": [
       "Empty DataFrame\n",
       "Columns: [Id, EmployeeName, JobTitle, BasePay, OvertimePay, OtherPay, Benefits, TotalPay, TotalPayBenefits, Year, Notes, Agency, Status]\n",
       "Index: []"
      ]
     },
     "execution_count": 14,
     "metadata": {},
     "output_type": "execute_result"
    }
   ],
   "source": [
    "sf[sf.Id.isnull()]"
   ]
  },
  {
   "cell_type": "markdown",
   "metadata": {},
   "source": [
    "** *EDA for TotalPay* **\n"
   ]
  },
  {
   "cell_type": "code",
   "execution_count": 15,
   "metadata": {
    "collapsed": false
   },
   "outputs": [
    {
     "data": {
      "text/html": [
       "<div>\n",
       "<table border=\"1\" class=\"dataframe\">\n",
       "  <thead>\n",
       "    <tr style=\"text-align: right;\">\n",
       "      <th></th>\n",
       "      <th>Id</th>\n",
       "      <th>EmployeeName</th>\n",
       "      <th>JobTitle</th>\n",
       "      <th>BasePay</th>\n",
       "      <th>OvertimePay</th>\n",
       "      <th>OtherPay</th>\n",
       "      <th>Benefits</th>\n",
       "      <th>TotalPay</th>\n",
       "      <th>TotalPayBenefits</th>\n",
       "      <th>Year</th>\n",
       "      <th>Notes</th>\n",
       "      <th>Agency</th>\n",
       "      <th>Status</th>\n",
       "    </tr>\n",
       "  </thead>\n",
       "  <tbody>\n",
       "  </tbody>\n",
       "</table>\n",
       "</div>"
      ],
      "text/plain": [
       "Empty DataFrame\n",
       "Columns: [Id, EmployeeName, JobTitle, BasePay, OvertimePay, OtherPay, Benefits, TotalPay, TotalPayBenefits, Year, Notes, Agency, Status]\n",
       "Index: []"
      ]
     },
     "execution_count": 15,
     "metadata": {},
     "output_type": "execute_result"
    }
   ],
   "source": [
    "sf[sf.TotalPay.isnull()]"
   ]
  },
  {
   "cell_type": "code",
   "execution_count": 16,
   "metadata": {
    "collapsed": false
   },
   "outputs": [
    {
     "data": {
      "text/plain": [
       "<matplotlib.text.Text at 0xc4aa128>"
      ]
     },
     "execution_count": 16,
     "metadata": {},
     "output_type": "execute_result"
    },
    {
     "data": {
      "image/png": "[encoded data removed]",
      "text/plain": [
       "<matplotlib.figure.Figure at 0xc4aa9e8>"
      ]
     },
     "metadata": {},
     "output_type": "display_data"
    }
   ],
   "source": [
    "sf_TP=sf.TotalPay.hist(bins=10 , color = \"Black\")\n",
    "sf_TP.set_title(\"TotalPay\")"
   ]
  },
  {
   "cell_type": "markdown",
   "metadata": {},
   "source": [
    "** *EDA for TotalPayBenefits* **\n"
   ]
  },
  {
   "cell_type": "code",
   "execution_count": 17,
   "metadata": {
    "collapsed": false
   },
   "outputs": [
    {
     "data": {
      "text/plain": [
       "count    148654.000000\n",
       "mean      93692.554811\n",
       "std       62793.533483\n",
       "min        -618.130000\n",
       "25%       44065.650000\n",
       "50%       92404.090000\n",
       "75%      132876.450000\n",
       "max      567595.430000\n",
       "Name: TotalPayBenefits, dtype: float64"
      ]
     },
     "execution_count": 17,
     "metadata": {},
     "output_type": "execute_result"
    }
   ],
   "source": [
    "sf.TotalPayBenefits.describe()"
   ]
  },
  {
   "cell_type": "code",
   "execution_count": 18,
   "metadata": {
    "collapsed": false
   },
   "outputs": [
    {
     "data": {
      "text/plain": [
       "count    148654.000000\n",
       "mean      93692.554811\n",
       "std       62793.533483\n",
       "min        -618.130000\n",
       "25%       44065.650000\n",
       "50%       92404.090000\n",
       "75%      132876.450000\n",
       "max      567595.430000\n",
       "Name: TotalPayBenefits, dtype: float64"
      ]
     },
     "execution_count": 18,
     "metadata": {},
     "output_type": "execute_result"
    }
   ],
   "source": [
    "sf.TotalPayBenefits.describe()"
   ]
  },
  {
   "cell_type": "code",
   "execution_count": 19,
   "metadata": {
    "collapsed": false
   },
   "outputs": [
    {
     "data": {
      "text/plain": [
       "0         False\n",
       "1         False\n",
       "2         False\n",
       "3         False\n",
       "4         False\n",
       "5         False\n",
       "6         False\n",
       "7         False\n",
       "8         False\n",
       "9         False\n",
       "10        False\n",
       "11        False\n",
       "12        False\n",
       "13        False\n",
       "14        False\n",
       "15        False\n",
       "16        False\n",
       "17        False\n",
       "18        False\n",
       "19        False\n",
       "20        False\n",
       "21        False\n",
       "22        False\n",
       "23        False\n",
       "24        False\n",
       "25        False\n",
       "26        False\n",
       "27        False\n",
       "28        False\n",
       "29        False\n",
       "          ...  \n",
       "148624    False\n",
       "148625    False\n",
       "148626    False\n",
       "148627    False\n",
       "148628    False\n",
       "148629    False\n",
       "148630    False\n",
       "148631    False\n",
       "148632    False\n",
       "148633    False\n",
       "148634    False\n",
       "148635    False\n",
       "148636    False\n",
       "148637    False\n",
       "148638    False\n",
       "148639    False\n",
       "148640    False\n",
       "148641    False\n",
       "148642    False\n",
       "148643    False\n",
       "148644    False\n",
       "148645    False\n",
       "148646    False\n",
       "148647    False\n",
       "148648    False\n",
       "148649    False\n",
       "148650    False\n",
       "148651    False\n",
       "148652    False\n",
       "148653    False\n",
       "Name: TotalPayBenefits, dtype: bool"
      ]
     },
     "execution_count": 19,
     "metadata": {},
     "output_type": "execute_result"
    }
   ],
   "source": [
    "sf.TotalPayBenefits.isnull()"
   ]
  },
  {
   "cell_type": "code",
   "execution_count": 20,
   "metadata": {
    "collapsed": false
   },
   "outputs": [
    {
     "data": {
      "text/plain": [
       "<matplotlib.text.Text at 0x106fcc18>"
      ]
     },
     "execution_count": 20,
     "metadata": {},
     "output_type": "execute_result"
    },
    {
     "data": {
      "image/png": "[encoded data removed]",
      "text/plain": [
       "<matplotlib.figure.Figure at 0xc4d4710>"
      ]
     },
     "metadata": {},
     "output_type": "display_data"
    }
   ],
   "source": [
    "sf_TPB=sf.TotalPayBenefits.hist(bins=10 , color = \"Black\")\n",
    "sf_TPB.set_title(\"Total Pay Benefits\")"
   ]
  },
  {
   "cell_type": "markdown",
   "metadata": {},
   "source": [
    "** *EDA for Year* ** "
   ]
  },
  {
   "cell_type": "code",
   "execution_count": 21,
   "metadata": {
    "collapsed": false
   },
   "outputs": [
    {
     "data": {
      "text/plain": [
       "count    148654.000000\n",
       "mean       2012.522643\n",
       "std           1.117538\n",
       "min        2011.000000\n",
       "25%        2012.000000\n",
       "50%        2013.000000\n",
       "75%        2014.000000\n",
       "max        2014.000000\n",
       "Name: Year, dtype: float64"
      ]
     },
     "execution_count": 21,
     "metadata": {},
     "output_type": "execute_result"
    }
   ],
   "source": [
    "sf.Year.describe()"
   ]
  },
  {
   "cell_type": "code",
   "execution_count": 22,
   "metadata": {
    "collapsed": false
   },
   "outputs": [
    {
     "data": {
      "text/plain": [
       "2014    38123\n",
       "2013    37606\n",
       "2012    36766\n",
       "2011    36159\n",
       "Name: Year, dtype: int64"
      ]
     },
     "execution_count": 22,
     "metadata": {},
     "output_type": "execute_result"
    }
   ],
   "source": [
    "sf.Year.value_counts()"
   ]
  },
  {
   "cell_type": "code",
   "execution_count": 23,
   "metadata": {
    "collapsed": false
   },
   "outputs": [
    {
     "data": {
      "text/plain": [
       "<matplotlib.text.Text at 0x108b5588>"
      ]
     },
     "execution_count": 23,
     "metadata": {},
     "output_type": "execute_result"
    },
    {
     "data": {
      "image/png": "[encoded data removed]",
      "text/plain": [
       "<matplotlib.figure.Figure at 0x106fc0f0>"
      ]
     },
     "metadata": {},
     "output_type": "display_data"
    }
   ],
   "source": [
    "\n",
    "sf_year =sf.Year.value_counts().plot(kind = 'bar',color = \"Blue\" )\n",
    "sf_year.set_title(\"Year\")\n"
   ]
  },
  {
   "cell_type": "markdown",
   "metadata": {},
   "source": [
    "** *EDA for Notes:* **"
   ]
  },
  {
   "cell_type": "code",
   "execution_count": 24,
   "metadata": {
    "collapsed": false
   },
   "outputs": [
    {
     "data": {
      "text/plain": [
       "Series([], Name: Notes, dtype: int64)"
      ]
     },
     "execution_count": 24,
     "metadata": {},
     "output_type": "execute_result"
    }
   ],
   "source": [
    "sf.Notes.value_counts()"
   ]
  },
  {
   "cell_type": "markdown",
   "metadata": {},
   "source": [
    "Notes has all the values null, hence i shall go ahead and delete this column. "
   ]
  },
  {
   "cell_type": "code",
   "execution_count": 25,
   "metadata": {
    "collapsed": false
   },
   "outputs": [],
   "source": [
    "del sf['Notes']"
   ]
  },
  {
   "cell_type": "markdown",
   "metadata": {},
   "source": [
    "EDA for the categorical variables"
   ]
  },
  {
   "cell_type": "code",
   "execution_count": 26,
   "metadata": {
    "collapsed": false
   },
   "outputs": [
    {
     "data": {
      "text/html": [
       "<table border=\"1\" class=\"dataframe\">\n",
       "  <thead>\n",
       "    <tr style=\"text-align: right;\">\n",
       "      <th></th>\n",
       "      <th>EmployeeName</th>\n",
       "      <th>JobTitle</th>\n",
       "      <th>BasePay</th>\n",
       "      <th>OvertimePay</th>\n",
       "      <th>OtherPay</th>\n",
       "      <th>Benefits</th>\n",
       "      <th>Agency</th>\n",
       "      <th>Status</th>\n",
       "    </tr>\n",
       "  </thead>\n",
       "  <tbody>\n",
       "    <tr>\n",
       "      <th>count</th>\n",
       "      <td>148654</td>\n",
       "      <td>148654</td>\n",
       "      <td>148049.0</td>\n",
       "      <td>148654.0</td>\n",
       "      <td>148654.0</td>\n",
       "      <td>112495.0</td>\n",
       "      <td>148654</td>\n",
       "      <td>38119</td>\n",
       "    </tr>\n",
       "    <tr>\n",
       "      <th>unique</th>\n",
       "      <td>110811</td>\n",
       "      <td>2159</td>\n",
       "      <td>109900.0</td>\n",
       "      <td>66555.0</td>\n",
       "      <td>84968.0</td>\n",
       "      <td>99635.0</td>\n",
       "      <td>1</td>\n",
       "      <td>2</td>\n",
       "    </tr>\n",
       "    <tr>\n",
       "      <th>top</th>\n",
       "      <td>Kevin Lee</td>\n",
       "      <td>Transit Operator</td>\n",
       "      <td>0.0</td>\n",
       "      <td>0.0</td>\n",
       "      <td>0.0</td>\n",
       "      <td>0.0</td>\n",
       "      <td>San Francisco</td>\n",
       "      <td>FT</td>\n",
       "    </tr>\n",
       "    <tr>\n",
       "      <th>freq</th>\n",
       "      <td>13</td>\n",
       "      <td>7036</td>\n",
       "      <td>875.0</td>\n",
       "      <td>66103.0</td>\n",
       "      <td>35218.0</td>\n",
       "      <td>1053.0</td>\n",
       "      <td>148654</td>\n",
       "      <td>22334</td>\n",
       "    </tr>\n",
       "  </tbody>\n",
       "</table>"
      ],
      "text/plain": [
       "<IPython.core.display.HTML object>"
      ]
     },
     "metadata": {},
     "output_type": "display_data"
    }
   ],
   "source": [
    "categorical_variable(sf)"
   ]
  },
  {
   "cell_type": "code",
   "execution_count": 27,
   "metadata": {
    "collapsed": false
   },
   "outputs": [
    {
     "data": {
      "text/plain": [
       "Kevin Lee               13\n",
       "William Wong            11\n",
       "Richard Lee             11\n",
       "Steven Lee              11\n",
       "Michael Wong             9\n",
       "John Chan                9\n",
       "KEVIN LEE                9\n",
       "Stanley Lee              9\n",
       "Victor Lee               8\n",
       "William Lee              8\n",
       "MICHAEL LEE              8\n",
       "David Wong               8\n",
       "RICHARD LEE              8\n",
       "DAVID WONG               8\n",
       "Michael Lee              7\n",
       "STANLEY LEE              7\n",
       "STEVEN LEE               7\n",
       "Michael A Johnson        7\n",
       "MICHAEL BROWN            7\n",
       "Michael Brown            7\n",
       "WILLIAM WONG             7\n",
       "John Miller              7\n",
       "Sandy Wong               7\n",
       "Amelie E Bullard         7\n",
       "Evelyn M Palomares       6\n",
       "WILLIAM LEE              6\n",
       "JOHN CHAN                6\n",
       "Michael Smith            6\n",
       "Nancy Wong               6\n",
       "Emelita M Hathaway       6\n",
       "                        ..\n",
       "ROBERT MAMMONE           1\n",
       "MILDRED ZARAGOZA         1\n",
       "Fidel Amezcua Jr         1\n",
       "Vincent Siu              1\n",
       "Steven P Crocker         1\n",
       "Serafin Tiomico          1\n",
       "Robin DeLosReyes         1\n",
       "DEARNA TINH DIEP         1\n",
       "Diane Huang              1\n",
       "CLEMENT NG               1\n",
       "Michael Fabian           1\n",
       "ANGELA JOHNSON           1\n",
       "Stephanie Williamson     1\n",
       "Joyce R Rowe             1\n",
       "Nancy Chan               1\n",
       "Mikael J Roemer          1\n",
       "TOI CHUNG SU             1\n",
       "NADIA VOLNY              1\n",
       "KAREN HOLBROOK           1\n",
       "RICHARD PAU              1\n",
       "Brenda Tolentino         1\n",
       "WILSON LU                1\n",
       "Jessica Zanjani          1\n",
       "Nathan Holmes            1\n",
       "Dorben  Bautista         1\n",
       "Jeffrey Smethurst        1\n",
       "WILSON LO                1\n",
       "Cheryl Matthews          1\n",
       "Carol Borden-Gomez       1\n",
       "Rudy Zamora Jr           1\n",
       "Name: EmployeeName, dtype: int64"
      ]
     },
     "execution_count": 27,
     "metadata": {},
     "output_type": "execute_result"
    }
   ],
   "source": [
    "sf.EmployeeName.value_counts()\n"
   ]
  },
  {
   "cell_type": "markdown",
   "metadata": {},
   "source": [
    "We wont be using name as a part of our model "
   ]
  },
  {
   "cell_type": "code",
   "execution_count": 28,
   "metadata": {
    "collapsed": false
   },
   "outputs": [],
   "source": [
    "del sf['EmployeeName']"
   ]
  },
  {
   "cell_type": "markdown",
   "metadata": {},
   "source": [
    "EDA for JobTitle"
   ]
  },
  {
   "cell_type": "code",
   "execution_count": 29,
   "metadata": {
    "collapsed": false
   },
   "outputs": [
    {
     "data": {
      "text/plain": [
       "Transit Operator                                      7036\n",
       "Special Nurse                                         4389\n",
       "Registered Nurse                                      3736\n",
       "Public Svc Aide-Public Works                          2518\n",
       "Police Officer 3                                      2421\n",
       "Custodian                                             2418\n",
       "TRANSIT OPERATOR                                      2388\n",
       "Firefighter                                           2359\n",
       "Recreation Leader                                     1971\n",
       "Patient Care Assistant                                1945\n",
       "Deputy Sheriff                                        1933\n",
       "Police Officer                                        1476\n",
       "SPECIAL NURSE                                         1402\n",
       "Public Service Trainee                                1328\n",
       "REGISTERED NURSE                                      1219\n",
       "Police Officer 2                                      1141\n",
       "Attorney (Civil/Criminal)                             1126\n",
       "Porter                                                1095\n",
       "Sergeant 3                                            1047\n",
       "General Laborer                                       1033\n",
       "EMT/Paramedic/Firefighter                              918\n",
       "Gardener                                               894\n",
       "Parking Control Officer                                868\n",
       "Senior Clerk                                           840\n",
       "Library Page                                           799\n",
       "CUSTODIAN                                              796\n",
       "FIREFIGHTER                                            794\n",
       "POLICE OFFICER III                                     779\n",
       "Clerk                                                  764\n",
       "Eligibility Worker                                     760\n",
       "                                                      ... \n",
       "HEAVY EQUIPMENT OPERATIONS ASSISTANT SUPERVISOR          1\n",
       "CHIEF DISTRICT ATTORNEY'S INVESTIGATOR                   1\n",
       "TRAFFIC HEARING OFFICER                                  1\n",
       "CAPTAIN, BUREAU OF FIRE PREVENTION AND PUBLIC SAFE       1\n",
       "MENTAL HEALTH HEARING OFFICER                            1\n",
       "Chief Investment Officer                                 1\n",
       "CHIEF OF POLICE                                          1\n",
       "IS Technician Assistant                                  1\n",
       "LIBRARIAN II - ASIAN ARTS                                1\n",
       "CONFIDENTIAL SECRETARY CITY ATTORNEY                     1\n",
       "PUBLIC SAFETY COMMUNICATIONS TECHNICIAN                  1\n",
       "CHIEF VICTIM/WITNESS INVESTIGATOR                        1\n",
       "MAYOR'S PROGRAM MANAGER                                  1\n",
       "SHERIFF                                                  1\n",
       "Cfdntal Sctry to Distric Atty                            1\n",
       "TRIAL DELAY REDUCTION COORDINATOR                        1\n",
       "VETERNIARY LABORATORY TECHNOLOGIST                       1\n",
       "CITY PLANNING GRAPHICS SUPERVISOR                        1\n",
       "Captain, (Fire Department)                               1\n",
       "TRANSIT POWER LINE WORKER SUPERVISOR II                  1\n",
       "WIRE ROPE CABLE MAINTENANCE SUPERVISOR                   1\n",
       "SUPPLY ROOM ATTENDENT                                    1\n",
       "MEDIA PRODUCTION SUPERVISOR                              1\n",
       "TRANSIT PAINT SHOP SUPERVISOR I                          1\n",
       "SECRETARY, COMMISSION ON THE ENVIRONMENT                 1\n",
       "ZOO CURATOR                                              1\n",
       "Light Rail Vehicle Equip Eng                             1\n",
       "COURT EXECUTIVE OFFICER                                  1\n",
       "ASSISTANT DIRECTOR, JUVENILE HALL                        1\n",
       "COURT ADMINISTRATIVE SECRETARY                           1\n",
       "Name: JobTitle, dtype: int64"
      ]
     },
     "execution_count": 29,
     "metadata": {},
     "output_type": "execute_result"
    }
   ],
   "source": [
    "sf.JobTitle.value_counts()"
   ]
  },
  {
   "cell_type": "code",
   "execution_count": 30,
   "metadata": {
    "collapsed": false
   },
   "outputs": [
    {
     "data": {
      "text/plain": [
       "count               148654\n",
       "unique                2159\n",
       "top       Transit Operator\n",
       "freq                  7036\n",
       "Name: JobTitle, dtype: object"
      ]
     },
     "execution_count": 30,
     "metadata": {},
     "output_type": "execute_result"
    }
   ],
   "source": [
    "sf.JobTitle.describe()"
   ]
  },
  {
   "cell_type": "code",
   "execution_count": 31,
   "metadata": {
    "collapsed": false
   },
   "outputs": [
    {
     "data": {
      "text/plain": [
       "<matplotlib.text.Text at 0x11641400>"
      ]
     },
     "execution_count": 31,
     "metadata": {},
     "output_type": "execute_result"
    },
    {
     "data": {
      "image/png": "[encoded data removed]",
      "text/plain": [
       "<matplotlib.figure.Figure at 0x11a55a90>"
      ]
     },
     "metadata": {},
     "output_type": "display_data"
    }
   ],
   "source": [
    "sf_JT = sf.JobTitle.value_counts().plot(kind = 'bar')\n",
    "sf_JT.set_title(\"Job Title\")"
   ]
  },
  {
   "cell_type": "markdown",
   "metadata": {},
   "source": [
    "\n",
    "EDA for BasePay  "
   ]
  },
  {
   "cell_type": "code",
   "execution_count": 32,
   "metadata": {
    "collapsed": false
   },
   "outputs": [
    {
     "data": {
      "text/plain": [
       "0.0          875\n",
       "0.00         423\n",
       "54703.00     327\n",
       "55026.0      297\n",
       "48472.4      210\n",
       "65448.0      153\n",
       "121068.0     152\n",
       "68391.0      152\n",
       "88374.0      151\n",
       "51492.8      143\n",
       "94191.0      137\n",
       "116584.0     127\n",
       "105934.66    117\n",
       "105934.67    114\n",
       "51502.0      110\n",
       "67948.0      109\n",
       "63995.0      103\n",
       "60206.6      101\n",
       "86840.0       95\n",
       "105934.65     94\n",
       "72144.0       86\n",
       "116956.71     85\n",
       "81830.0       84\n",
       "79222.0       82\n",
       "88062.0       82\n",
       "112703.74     79\n",
       "83160.0       77\n",
       "61128.0       77\n",
       "109783.86     74\n",
       "57630.6       73\n",
       "            ... \n",
       "71263.27       1\n",
       "29672.65       1\n",
       "11547.16       1\n",
       "17714.33       1\n",
       "79192.2        1\n",
       "118073.7       1\n",
       "8546.80        1\n",
       "56075.89       1\n",
       "47299.47       1\n",
       "48475.71       1\n",
       "30254.4        1\n",
       "157975.9       1\n",
       "50878.93       1\n",
       "75984.53       1\n",
       "17678.46       1\n",
       "91978.82       1\n",
       "55462.19       1\n",
       "84814.03       1\n",
       "76558.9        1\n",
       "87298.1        1\n",
       "422.11         1\n",
       "9991.53        1\n",
       "127207.77      1\n",
       "97461.09       1\n",
       "51751.4        1\n",
       "93325.99       1\n",
       "154575.03      1\n",
       "111890.97      1\n",
       "7996.06        1\n",
       "62521.01       1\n",
       "Name: BasePay, dtype: int64"
      ]
     },
     "execution_count": 32,
     "metadata": {},
     "output_type": "execute_result"
    }
   ],
   "source": [
    "sf.BasePay.value_counts()"
   ]
  },
  {
   "cell_type": "code",
   "execution_count": 33,
   "metadata": {
    "collapsed": false
   },
   "outputs": [
    {
     "data": {
      "text/plain": [
       "count     148049.0\n",
       "unique    109900.0\n",
       "top            0.0\n",
       "freq         875.0\n",
       "Name: BasePay, dtype: float64"
      ]
     },
     "execution_count": 33,
     "metadata": {},
     "output_type": "execute_result"
    }
   ],
   "source": [
    "sf.BasePay.describe()"
   ]
  },
  {
   "cell_type": "code",
   "execution_count": 34,
   "metadata": {
    "collapsed": false
   },
   "outputs": [
    {
     "data": {
      "text/plain": [
       "0         False\n",
       "1         False\n",
       "2         False\n",
       "3         False\n",
       "4         False\n",
       "5         False\n",
       "6         False\n",
       "7         False\n",
       "8         False\n",
       "9         False\n",
       "10        False\n",
       "11        False\n",
       "12        False\n",
       "13        False\n",
       "14        False\n",
       "15        False\n",
       "16        False\n",
       "17        False\n",
       "18        False\n",
       "19        False\n",
       "20        False\n",
       "21        False\n",
       "22        False\n",
       "23        False\n",
       "24        False\n",
       "25        False\n",
       "26        False\n",
       "27        False\n",
       "28        False\n",
       "29        False\n",
       "          ...  \n",
       "148624    False\n",
       "148625    False\n",
       "148626    False\n",
       "148627    False\n",
       "148628    False\n",
       "148629    False\n",
       "148630    False\n",
       "148631    False\n",
       "148632    False\n",
       "148633    False\n",
       "148634    False\n",
       "148635    False\n",
       "148636    False\n",
       "148637    False\n",
       "148638    False\n",
       "148639    False\n",
       "148640    False\n",
       "148641    False\n",
       "148642    False\n",
       "148643    False\n",
       "148644    False\n",
       "148645    False\n",
       "148646    False\n",
       "148647    False\n",
       "148648    False\n",
       "148649    False\n",
       "148650    False\n",
       "148651    False\n",
       "148652    False\n",
       "148653    False\n",
       "Name: BasePay, dtype: bool"
      ]
     },
     "execution_count": 34,
     "metadata": {},
     "output_type": "execute_result"
    }
   ],
   "source": [
    "sf.BasePay.isnull()"
   ]
  },
  {
   "cell_type": "markdown",
   "metadata": {},
   "source": [
    "*Here, deletion of Id is done, because Id shall in no way contribute in predicting totalpay. *"
   ]
  },
  {
   "cell_type": "code",
   "execution_count": 35,
   "metadata": {
    "collapsed": false
   },
   "outputs": [],
   "source": [
    "del sf['Id']"
   ]
  },
  {
   "cell_type": "markdown",
   "metadata": {},
   "source": [
    "** *EDA for Benefits* **"
   ]
  },
  {
   "cell_type": "code",
   "execution_count": 36,
   "metadata": {
    "collapsed": false
   },
   "outputs": [
    {
     "data": {
      "text/plain": [
       "0.0         1053\n",
       "0.00         681\n",
       "7959.18      348\n",
       "4659.36      107\n",
       "25699.2       83\n",
       "37055.22      82\n",
       "27052.98      70\n",
       "37025.18      60\n",
       "36097.33      57\n",
       "34150.93      53\n",
       "38280.39      51\n",
       "35884.33      51\n",
       "39396.66      49\n",
       "36412.57      47\n",
       "35445.1       44\n",
       "25954.76      44\n",
       "7464.70       43\n",
       "37040.2       43\n",
       "26642.48      43\n",
       "41406.59      40\n",
       "41858.98      40\n",
       "35732.23      39\n",
       "41366.1       38\n",
       "450.37        37\n",
       "7065.1        36\n",
       "18323.88      36\n",
       "24669.82      35\n",
       "35703.87      35\n",
       "35134.88      35\n",
       "24682.65      35\n",
       "            ... \n",
       "6290.33        1\n",
       "39584.08       1\n",
       "1747.87        1\n",
       "3591.55        1\n",
       "18.22          1\n",
       "38492.87       1\n",
       "40898.56       1\n",
       "11597.34       1\n",
       "34503.83       1\n",
       "45580.62       1\n",
       "52.23          1\n",
       "31825.31       1\n",
       "31622.58       1\n",
       "28792.91       1\n",
       "46336.17       1\n",
       "57423.34       1\n",
       "34175.96       1\n",
       "23496.54       1\n",
       "32192.81       1\n",
       "52069.99       1\n",
       "19004.42       1\n",
       "58397.07       1\n",
       "26802.16       1\n",
       "34100.41       1\n",
       "75.98          1\n",
       "2090.91        1\n",
       "32012.15       1\n",
       "8201.43        1\n",
       "63021.35       1\n",
       "26224.5        1\n",
       "Name: Benefits, dtype: int64"
      ]
     },
     "execution_count": 36,
     "metadata": {},
     "output_type": "execute_result"
    }
   ],
   "source": [
    "sf.Benefits.value_counts()"
   ]
  },
  {
   "cell_type": "code",
   "execution_count": 37,
   "metadata": {
    "collapsed": false
   },
   "outputs": [
    {
     "data": {
      "text/plain": [
       "count     112495.0\n",
       "unique     99635.0\n",
       "top            0.0\n",
       "freq        1053.0\n",
       "Name: Benefits, dtype: float64"
      ]
     },
     "execution_count": 37,
     "metadata": {},
     "output_type": "execute_result"
    }
   ],
   "source": [
    "sf.Benefits.describe()"
   ]
  },
  {
   "cell_type": "code",
   "execution_count": 38,
   "metadata": {
    "collapsed": false
   },
   "outputs": [
    {
     "data": {
      "text/plain": [
       "0          True\n",
       "1          True\n",
       "2          True\n",
       "3          True\n",
       "4          True\n",
       "5          True\n",
       "6          True\n",
       "7          True\n",
       "8          True\n",
       "9          True\n",
       "10         True\n",
       "11         True\n",
       "12         True\n",
       "13         True\n",
       "14         True\n",
       "15         True\n",
       "16         True\n",
       "17         True\n",
       "18         True\n",
       "19         True\n",
       "20         True\n",
       "21         True\n",
       "22         True\n",
       "23         True\n",
       "24         True\n",
       "25         True\n",
       "26         True\n",
       "27         True\n",
       "28         True\n",
       "29         True\n",
       "          ...  \n",
       "148624    False\n",
       "148625    False\n",
       "148626    False\n",
       "148627    False\n",
       "148628    False\n",
       "148629    False\n",
       "148630    False\n",
       "148631    False\n",
       "148632    False\n",
       "148633    False\n",
       "148634    False\n",
       "148635    False\n",
       "148636    False\n",
       "148637    False\n",
       "148638    False\n",
       "148639    False\n",
       "148640    False\n",
       "148641    False\n",
       "148642    False\n",
       "148643    False\n",
       "148644    False\n",
       "148645    False\n",
       "148646    False\n",
       "148647    False\n",
       "148648    False\n",
       "148649    False\n",
       "148650    False\n",
       "148651    False\n",
       "148652    False\n",
       "148653    False\n",
       "Name: Benefits, dtype: bool"
      ]
     },
     "execution_count": 38,
     "metadata": {},
     "output_type": "execute_result"
    }
   ],
   "source": [
    "sf.Benefits.isnull()"
   ]
  },
  {
   "cell_type": "code",
   "execution_count": 39,
   "metadata": {
    "collapsed": false
   },
   "outputs": [
    {
     "name": "stderr",
     "output_type": "stream",
     "text": [
      "C:\\Users\\Karan\\Anaconda2\\lib\\site-packages\\ipykernel\\__main__.py:1: FutureWarning: convert_objects is deprecated.  Use the data-type specific converters pd.to_datetime, pd.to_timedelta and pd.to_numeric.\n",
      "  if __name__ == '__main__':\n"
     ]
    }
   ],
   "source": [
    "sf['Benefits'] = sf['Benefits'].convert_objects(convert_numeric=True)"
   ]
  },
  {
   "cell_type": "code",
   "execution_count": 40,
   "metadata": {
    "collapsed": false
   },
   "outputs": [],
   "source": [
    "mean = sf[\"Benefits\"].mean()\n",
    "\n",
    "sf[\"Benefits\"] = sf[\"Benefits\"].fillna(mean)"
   ]
  },
  {
   "cell_type": "code",
   "execution_count": 41,
   "metadata": {
    "collapsed": false
   },
   "outputs": [
    {
     "data": {
      "text/plain": [
       "0         False\n",
       "1         False\n",
       "2         False\n",
       "3         False\n",
       "4         False\n",
       "5         False\n",
       "6         False\n",
       "7         False\n",
       "8         False\n",
       "9         False\n",
       "10        False\n",
       "11        False\n",
       "12        False\n",
       "13        False\n",
       "14        False\n",
       "15        False\n",
       "16        False\n",
       "17        False\n",
       "18        False\n",
       "19        False\n",
       "20        False\n",
       "21        False\n",
       "22        False\n",
       "23        False\n",
       "24        False\n",
       "25        False\n",
       "26        False\n",
       "27        False\n",
       "28        False\n",
       "29        False\n",
       "          ...  \n",
       "148624    False\n",
       "148625    False\n",
       "148626    False\n",
       "148627    False\n",
       "148628    False\n",
       "148629    False\n",
       "148630    False\n",
       "148631    False\n",
       "148632    False\n",
       "148633    False\n",
       "148634    False\n",
       "148635    False\n",
       "148636    False\n",
       "148637    False\n",
       "148638    False\n",
       "148639    False\n",
       "148640    False\n",
       "148641    False\n",
       "148642    False\n",
       "148643    False\n",
       "148644    False\n",
       "148645    False\n",
       "148646    False\n",
       "148647    False\n",
       "148648    False\n",
       "148649    False\n",
       "148650    False\n",
       "148651    False\n",
       "148652    False\n",
       "148653    False\n",
       "Name: Benefits, dtype: bool"
      ]
     },
     "execution_count": 41,
     "metadata": {},
     "output_type": "execute_result"
    }
   ],
   "source": [
    "sf.Benefits.isnull()"
   ]
  },
  {
   "cell_type": "code",
   "execution_count": 42,
   "metadata": {
    "collapsed": false
   },
   "outputs": [
    {
     "data": {
      "text/plain": [
       "JobTitle             object\n",
       "BasePay              object\n",
       "OvertimePay          object\n",
       "OtherPay             object\n",
       "Benefits            float64\n",
       "TotalPay            float64\n",
       "TotalPayBenefits    float64\n",
       "Year                  int64\n",
       "Agency               object\n",
       "Status               object\n",
       "dtype: object"
      ]
     },
     "execution_count": 42,
     "metadata": {},
     "output_type": "execute_result"
    }
   ],
   "source": [
    "sf.dtypes\n"
   ]
  },
  {
   "cell_type": "markdown",
   "metadata": {
    "collapsed": true
   },
   "source": [
    "* **EDA for BasePay for converting its data type. and for handling its missing types* **"
   ]
  },
  {
   "cell_type": "code",
   "execution_count": 43,
   "metadata": {
    "collapsed": false
   },
   "outputs": [
    {
     "data": {
      "text/plain": [
       "count     148049.0\n",
       "unique    109900.0\n",
       "top            0.0\n",
       "freq         875.0\n",
       "Name: BasePay, dtype: float64"
      ]
     },
     "execution_count": 43,
     "metadata": {},
     "output_type": "execute_result"
    }
   ],
   "source": [
    "sf.BasePay.describe()"
   ]
  },
  {
   "cell_type": "code",
   "execution_count": 44,
   "metadata": {
    "collapsed": false
   },
   "outputs": [
    {
     "data": {
      "text/plain": [
       "0.0          875\n",
       "0.00         423\n",
       "54703.00     327\n",
       "55026.0      297\n",
       "48472.4      210\n",
       "65448.0      153\n",
       "121068.0     152\n",
       "68391.0      152\n",
       "88374.0      151\n",
       "51492.8      143\n",
       "94191.0      137\n",
       "116584.0     127\n",
       "105934.66    117\n",
       "105934.67    114\n",
       "51502.0      110\n",
       "67948.0      109\n",
       "63995.0      103\n",
       "60206.6      101\n",
       "86840.0       95\n",
       "105934.65     94\n",
       "72144.0       86\n",
       "116956.71     85\n",
       "81830.0       84\n",
       "79222.0       82\n",
       "88062.0       82\n",
       "112703.74     79\n",
       "83160.0       77\n",
       "61128.0       77\n",
       "109783.86     74\n",
       "57630.6       73\n",
       "            ... \n",
       "71263.27       1\n",
       "29672.65       1\n",
       "11547.16       1\n",
       "17714.33       1\n",
       "79192.2        1\n",
       "118073.7       1\n",
       "8546.80        1\n",
       "56075.89       1\n",
       "47299.47       1\n",
       "48475.71       1\n",
       "30254.4        1\n",
       "157975.9       1\n",
       "50878.93       1\n",
       "75984.53       1\n",
       "17678.46       1\n",
       "91978.82       1\n",
       "55462.19       1\n",
       "84814.03       1\n",
       "76558.9        1\n",
       "87298.1        1\n",
       "422.11         1\n",
       "9991.53        1\n",
       "127207.77      1\n",
       "97461.09       1\n",
       "51751.4        1\n",
       "93325.99       1\n",
       "154575.03      1\n",
       "111890.97      1\n",
       "7996.06        1\n",
       "62521.01       1\n",
       "Name: BasePay, dtype: int64"
      ]
     },
     "execution_count": 44,
     "metadata": {},
     "output_type": "execute_result"
    }
   ],
   "source": [
    "sf.BasePay.value_counts()"
   ]
  },
  {
   "cell_type": "code",
   "execution_count": 45,
   "metadata": {
    "collapsed": false
   },
   "outputs": [
    {
     "data": {
      "text/plain": [
       "0         False\n",
       "1         False\n",
       "2         False\n",
       "3         False\n",
       "4         False\n",
       "5         False\n",
       "6         False\n",
       "7         False\n",
       "8         False\n",
       "9         False\n",
       "10        False\n",
       "11        False\n",
       "12        False\n",
       "13        False\n",
       "14        False\n",
       "15        False\n",
       "16        False\n",
       "17        False\n",
       "18        False\n",
       "19        False\n",
       "20        False\n",
       "21        False\n",
       "22        False\n",
       "23        False\n",
       "24        False\n",
       "25        False\n",
       "26        False\n",
       "27        False\n",
       "28        False\n",
       "29        False\n",
       "          ...  \n",
       "148624    False\n",
       "148625    False\n",
       "148626    False\n",
       "148627    False\n",
       "148628    False\n",
       "148629    False\n",
       "148630    False\n",
       "148631    False\n",
       "148632    False\n",
       "148633    False\n",
       "148634    False\n",
       "148635    False\n",
       "148636    False\n",
       "148637    False\n",
       "148638    False\n",
       "148639    False\n",
       "148640    False\n",
       "148641    False\n",
       "148642    False\n",
       "148643    False\n",
       "148644    False\n",
       "148645    False\n",
       "148646    False\n",
       "148647    False\n",
       "148648    False\n",
       "148649    False\n",
       "148650    False\n",
       "148651    False\n",
       "148652    False\n",
       "148653    False\n",
       "Name: BasePay, dtype: bool"
      ]
     },
     "execution_count": 45,
     "metadata": {},
     "output_type": "execute_result"
    }
   ],
   "source": [
    "sf.BasePay.isnull()"
   ]
  },
  {
   "cell_type": "code",
   "execution_count": 46,
   "metadata": {
    "collapsed": false
   },
   "outputs": [
    {
     "name": "stderr",
     "output_type": "stream",
     "text": [
      "C:\\Users\\Karan\\Anaconda2\\lib\\site-packages\\ipykernel\\__main__.py:1: FutureWarning: convert_objects is deprecated.  Use the data-type specific converters pd.to_datetime, pd.to_timedelta and pd.to_numeric.\n",
      "  if __name__ == '__main__':\n"
     ]
    }
   ],
   "source": [
    "sf['BasePay'] = sf['BasePay'].convert_objects(convert_numeric=True)"
   ]
  },
  {
   "cell_type": "code",
   "execution_count": 47,
   "metadata": {
    "collapsed": true
   },
   "outputs": [],
   "source": [
    "mean = sf[\"BasePay\"].mean()\n",
    "\n",
    "sf[\"BasePay\"] = sf[\"BasePay\"].fillna(mean)"
   ]
  },
  {
   "cell_type": "code",
   "execution_count": null,
   "metadata": {
    "collapsed": true
   },
   "outputs": [],
   "source": []
  },
  {
   "cell_type": "code",
   "execution_count": 48,
   "metadata": {
    "collapsed": false
   },
   "outputs": [
    {
     "data": {
      "text/plain": [
       "JobTitle             object\n",
       "BasePay             float64\n",
       "OvertimePay          object\n",
       "OtherPay             object\n",
       "Benefits            float64\n",
       "TotalPay            float64\n",
       "TotalPayBenefits    float64\n",
       "Year                  int64\n",
       "Agency               object\n",
       "Status               object\n",
       "dtype: object"
      ]
     },
     "execution_count": 48,
     "metadata": {},
     "output_type": "execute_result"
    }
   ],
   "source": [
    "sf.dtypes\n"
   ]
  },
  {
   "cell_type": "code",
   "execution_count": 49,
   "metadata": {
    "collapsed": false
   },
   "outputs": [
    {
     "name": "stderr",
     "output_type": "stream",
     "text": [
      "C:\\Users\\Karan\\Anaconda2\\lib\\site-packages\\ipykernel\\__main__.py:1: FutureWarning: convert_objects is deprecated.  Use the data-type specific converters pd.to_datetime, pd.to_timedelta and pd.to_numeric.\n",
      "  if __name__ == '__main__':\n"
     ]
    }
   ],
   "source": [
    "sf['OvertimePay'] = sf['OvertimePay'].convert_objects(convert_numeric=True)"
   ]
  },
  {
   "cell_type": "code",
   "execution_count": 50,
   "metadata": {
    "collapsed": true
   },
   "outputs": [],
   "source": [
    "mean = sf[\"OvertimePay\"].mean()\n",
    "\n",
    "sf[\"OvertimePay\"] = sf[\"OvertimePay\"].fillna(mean)"
   ]
  },
  {
   "cell_type": "code",
   "execution_count": 51,
   "metadata": {
    "collapsed": false
   },
   "outputs": [],
   "source": [
    "categorical_variable = ['JobTitle', 'Status']\n",
    "\n",
    "for variable in categorical_variable:\n",
    "    # Fill missing data with the word \"Missing\"\n",
    "    sf[variable].fillna(\"Missing\", inplace=True)\n",
    "    # Create array of dummies\n",
    "    dummies = pd.get_dummies(sf[variable], prefix=variable)\n",
    "    # Update X to include dummies and drop the main variable\n",
    "    sf = pd.concat([sf, dummies], axis=1)\n",
    "    sf.drop([variable], axis=1, inplace=True)"
   ]
  },
  {
   "cell_type": "code",
   "execution_count": 52,
   "metadata": {
    "collapsed": false
   },
   "outputs": [
    {
     "name": "stderr",
     "output_type": "stream",
     "text": [
      "C:\\Users\\Karan\\Anaconda2\\lib\\site-packages\\ipykernel\\__main__.py:1: FutureWarning: convert_objects is deprecated.  Use the data-type specific converters pd.to_datetime, pd.to_timedelta and pd.to_numeric.\n",
      "  if __name__ == '__main__':\n"
     ]
    }
   ],
   "source": [
    "sf['OtherPay'] = sf['OtherPay'].convert_objects(convert_numeric=True)"
   ]
  },
  {
   "cell_type": "code",
   "execution_count": 53,
   "metadata": {
    "collapsed": true
   },
   "outputs": [],
   "source": [
    "mean = sf[\"OtherPay\"].mean()\n",
    "\n",
    "sf[\"OtherPay\"] = sf[\"OPay\"].fillna(mean)"
   ]
  },
  {
   "cell_type": "code",
   "execution_count": 54,
   "metadata": {
    "collapsed": false
   },
   "outputs": [
    {
     "data": {
      "text/plain": [
       "BasePay                                                        False\n",
       "OvertimePay                                                    False\n",
       "OtherPay                                                       False\n",
       "Benefits                                                       False\n",
       "TotalPay                                                       False\n",
       "TotalPayBenefits                                               False\n",
       "Year                                                           False\n",
       "Agency                                                         False\n",
       "JobTitle_ACCOUNT CLERK                                         False\n",
       "JobTitle_ACCOUNTANT                                            False\n",
       "JobTitle_ACCOUNTANT INTERN                                     False\n",
       "JobTitle_ACPO,JuvP, Juv Prob (SFERS)                           False\n",
       "JobTitle_ACUPUNCTURIST                                         False\n",
       "JobTitle_ADMINISTRATIVE ANALYST                                False\n",
       "JobTitle_ADMINISTRATIVE ANALYST II                             False\n",
       "JobTitle_ADMINISTRATIVE ANALYST III                            False\n",
       "JobTitle_ADMINISTRATIVE ENGINEER                               False\n",
       "JobTitle_ADMINISTRATIVE SERVICES MANAGER                       False\n",
       "JobTitle_ADMINISTRATOR, SFGH MEDICAL CENTER                    False\n",
       "JobTitle_AFFIRMATIVE ACTION SPECIALIST                         False\n",
       "JobTitle_AGRICULTURAL INSPECTOR                                False\n",
       "JobTitle_AIRPORT ASSISTANT DEPUTY DIRECTOR, BUSINESS ADMINI    False\n",
       "JobTitle_AIRPORT ASSISTANT DEPUTY DIRECTOR, OPERATIONS         False\n",
       "JobTitle_AIRPORT COMMUNICATIONS OPERATOR                       False\n",
       "JobTitle_AIRPORT COMMUNICATIONS SUPERVISOR                     False\n",
       "JobTitle_AIRPORT ECONOMIC PLANNER                              False\n",
       "JobTitle_AIRPORT ELECTRICIAN                                   False\n",
       "JobTitle_AIRPORT ELECTRICIAN SUPERVISOR                        False\n",
       "JobTitle_AIRPORT EMERGENCY PLANNING COORDINATOR                False\n",
       "JobTitle_AIRPORT MECHANICAL MAINTENANCE SUPERVISOR             False\n",
       "                                                               ...  \n",
       "JobTitle_Water Const&Main Supt                                 False\n",
       "JobTitle_Water Meter Repairer                                  False\n",
       "JobTitle_Water Meter Shop Supervisor 1                         False\n",
       "JobTitle_Water Operations Analyst                              False\n",
       "JobTitle_Water Quality Tech III                                False\n",
       "JobTitle_Water Quality Technician                              False\n",
       "JobTitle_Water QualityTech I/II                                False\n",
       "JobTitle_Water Service Inspector                               False\n",
       "JobTitle_Watershed Forester                                    False\n",
       "JobTitle_Watershed Keeper                                      False\n",
       "JobTitle_Watershed Keeper Supervisor                           False\n",
       "JobTitle_Watershed Worker (Seasonal)                           False\n",
       "JobTitle_Welder                                                False\n",
       "JobTitle_Welfare Fraud Investigator                            False\n",
       "JobTitle_Wharfinger 1                                          False\n",
       "JobTitle_Wharfinger 2                                          False\n",
       "JobTitle_Window Cleaner                                        False\n",
       "JobTitle_Window Cleaner Supervisor                             False\n",
       "JobTitle_Wire Rope Cable Maint Mechanic                        False\n",
       "JobTitle_Wire Rope Cable Maint Sprv                            False\n",
       "JobTitle_Worker's Comp Supervisor 1                            False\n",
       "JobTitle_Worker's Compensation Adjuster                        False\n",
       "JobTitle_X-RAY LABORATORY AIDE                                 False\n",
       "JobTitle_X-Ray Laboratory Aide                                 False\n",
       "JobTitle_YOUTH COMMISSION ADVISOR, BOARD OF SUPERVISORS        False\n",
       "JobTitle_Youth Comm Advisor                                    False\n",
       "JobTitle_ZOO CURATOR                                           False\n",
       "Status_FT                                                      False\n",
       "Status_Missing                                                 False\n",
       "Status_PT                                                      False\n",
       "dtype: bool"
      ]
     },
     "execution_count": 54,
     "metadata": {},
     "output_type": "execute_result"
    }
   ],
   "source": [
    "sf.isnull().any()"
   ]
  },
  {
   "cell_type": "code",
   "execution_count": 55,
   "metadata": {
    "collapsed": false
   },
   "outputs": [
    {
     "data": {
      "text/plain": [
       "San Francisco    148654\n",
       "Name: Agency, dtype: int64"
      ]
     },
     "execution_count": 55,
     "metadata": {},
     "output_type": "execute_result"
    }
   ],
   "source": [
    "sf.Agency.value_counts()"
   ]
  },
  {
   "cell_type": "code",
   "execution_count": 56,
   "metadata": {
    "collapsed": true
   },
   "outputs": [],
   "source": [
    "del sf['Agency']"
   ]
  },
  {
   "cell_type": "markdown",
   "metadata": {},
   "source": [
    "** *Deleting Agency because there is only value, i.e is San Fransisco* **"
   ]
  },
  {
   "cell_type": "code",
   "execution_count": 59,
   "metadata": {
    "collapsed": false
   },
   "outputs": [
    {
     "data": {
      "text/plain": [
       "BasePay                                                        float64\n",
       "OvertimePay                                                    float64\n",
       "OtherPay                                                       float64\n",
       "Benefits                                                       float64\n",
       "TotalPay                                                       float64\n",
       "TotalPayBenefits                                               float64\n",
       "Year                                                             int64\n",
       "JobTitle_ACCOUNT CLERK                                         float64\n",
       "JobTitle_ACCOUNTANT                                            float64\n",
       "JobTitle_ACCOUNTANT INTERN                                     float64\n",
       "JobTitle_ACPO,JuvP, Juv Prob (SFERS)                           float64\n",
       "JobTitle_ACUPUNCTURIST                                         float64\n",
       "JobTitle_ADMINISTRATIVE ANALYST                                float64\n",
       "JobTitle_ADMINISTRATIVE ANALYST II                             float64\n",
       "JobTitle_ADMINISTRATIVE ANALYST III                            float64\n",
       "JobTitle_ADMINISTRATIVE ENGINEER                               float64\n",
       "JobTitle_ADMINISTRATIVE SERVICES MANAGER                       float64\n",
       "JobTitle_ADMINISTRATOR, SFGH MEDICAL CENTER                    float64\n",
       "JobTitle_AFFIRMATIVE ACTION SPECIALIST                         float64\n",
       "JobTitle_AGRICULTURAL INSPECTOR                                float64\n",
       "JobTitle_AIRPORT ASSISTANT DEPUTY DIRECTOR, BUSINESS ADMINI    float64\n",
       "JobTitle_AIRPORT ASSISTANT DEPUTY DIRECTOR, OPERATIONS         float64\n",
       "JobTitle_AIRPORT COMMUNICATIONS OPERATOR                       float64\n",
       "JobTitle_AIRPORT COMMUNICATIONS SUPERVISOR                     float64\n",
       "JobTitle_AIRPORT ECONOMIC PLANNER                              float64\n",
       "JobTitle_AIRPORT ELECTRICIAN                                   float64\n",
       "JobTitle_AIRPORT ELECTRICIAN SUPERVISOR                        float64\n",
       "JobTitle_AIRPORT EMERGENCY PLANNING COORDINATOR                float64\n",
       "JobTitle_AIRPORT MECHANICAL MAINTENANCE SUPERVISOR             float64\n",
       "JobTitle_AIRPORT NOISE ABATEMENT SPECIALIST                    float64\n",
       "                                                                ...   \n",
       "JobTitle_Water Const&Main Supt                                 float64\n",
       "JobTitle_Water Meter Repairer                                  float64\n",
       "JobTitle_Water Meter Shop Supervisor 1                         float64\n",
       "JobTitle_Water Operations Analyst                              float64\n",
       "JobTitle_Water Quality Tech III                                float64\n",
       "JobTitle_Water Quality Technician                              float64\n",
       "JobTitle_Water QualityTech I/II                                float64\n",
       "JobTitle_Water Service Inspector                               float64\n",
       "JobTitle_Watershed Forester                                    float64\n",
       "JobTitle_Watershed Keeper                                      float64\n",
       "JobTitle_Watershed Keeper Supervisor                           float64\n",
       "JobTitle_Watershed Worker (Seasonal)                           float64\n",
       "JobTitle_Welder                                                float64\n",
       "JobTitle_Welfare Fraud Investigator                            float64\n",
       "JobTitle_Wharfinger 1                                          float64\n",
       "JobTitle_Wharfinger 2                                          float64\n",
       "JobTitle_Window Cleaner                                        float64\n",
       "JobTitle_Window Cleaner Supervisor                             float64\n",
       "JobTitle_Wire Rope Cable Maint Mechanic                        float64\n",
       "JobTitle_Wire Rope Cable Maint Sprv                            float64\n",
       "JobTitle_Worker's Comp Supervisor 1                            float64\n",
       "JobTitle_Worker's Compensation Adjuster                        float64\n",
       "JobTitle_X-RAY LABORATORY AIDE                                 float64\n",
       "JobTitle_X-Ray Laboratory Aide                                 float64\n",
       "JobTitle_YOUTH COMMISSION ADVISOR, BOARD OF SUPERVISORS        float64\n",
       "JobTitle_Youth Comm Advisor                                    float64\n",
       "JobTitle_ZOO CURATOR                                           float64\n",
       "Status_FT                                                      float64\n",
       "Status_Missing                                                 float64\n",
       "Status_PT                                                      float64\n",
       "dtype: object"
      ]
     },
     "execution_count": 59,
     "metadata": {},
     "output_type": "execute_result"
    }
   ],
   "source": [
    "sf.dtypes"
   ]
  },
  {
   "cell_type": "code",
   "execution_count": 60,
   "metadata": {
    "collapsed": false
   },
   "outputs": [
    {
     "data": {
      "text/plain": [
       "BasePay                                                        False\n",
       "OvertimePay                                                    False\n",
       "OtherPay                                                       False\n",
       "Benefits                                                       False\n",
       "TotalPay                                                       False\n",
       "TotalPayBenefits                                               False\n",
       "Year                                                           False\n",
       "JobTitle_ACCOUNT CLERK                                         False\n",
       "JobTitle_ACCOUNTANT                                            False\n",
       "JobTitle_ACCOUNTANT INTERN                                     False\n",
       "JobTitle_ACPO,JuvP, Juv Prob (SFERS)                           False\n",
       "JobTitle_ACUPUNCTURIST                                         False\n",
       "JobTitle_ADMINISTRATIVE ANALYST                                False\n",
       "JobTitle_ADMINISTRATIVE ANALYST II                             False\n",
       "JobTitle_ADMINISTRATIVE ANALYST III                            False\n",
       "JobTitle_ADMINISTRATIVE ENGINEER                               False\n",
       "JobTitle_ADMINISTRATIVE SERVICES MANAGER                       False\n",
       "JobTitle_ADMINISTRATOR, SFGH MEDICAL CENTER                    False\n",
       "JobTitle_AFFIRMATIVE ACTION SPECIALIST                         False\n",
       "JobTitle_AGRICULTURAL INSPECTOR                                False\n",
       "JobTitle_AIRPORT ASSISTANT DEPUTY DIRECTOR, BUSINESS ADMINI    False\n",
       "JobTitle_AIRPORT ASSISTANT DEPUTY DIRECTOR, OPERATIONS         False\n",
       "JobTitle_AIRPORT COMMUNICATIONS OPERATOR                       False\n",
       "JobTitle_AIRPORT COMMUNICATIONS SUPERVISOR                     False\n",
       "JobTitle_AIRPORT ECONOMIC PLANNER                              False\n",
       "JobTitle_AIRPORT ELECTRICIAN                                   False\n",
       "JobTitle_AIRPORT ELECTRICIAN SUPERVISOR                        False\n",
       "JobTitle_AIRPORT EMERGENCY PLANNING COORDINATOR                False\n",
       "JobTitle_AIRPORT MECHANICAL MAINTENANCE SUPERVISOR             False\n",
       "JobTitle_AIRPORT NOISE ABATEMENT SPECIALIST                    False\n",
       "                                                               ...  \n",
       "JobTitle_Water Const&Main Supt                                 False\n",
       "JobTitle_Water Meter Repairer                                  False\n",
       "JobTitle_Water Meter Shop Supervisor 1                         False\n",
       "JobTitle_Water Operations Analyst                              False\n",
       "JobTitle_Water Quality Tech III                                False\n",
       "JobTitle_Water Quality Technician                              False\n",
       "JobTitle_Water QualityTech I/II                                False\n",
       "JobTitle_Water Service Inspector                               False\n",
       "JobTitle_Watershed Forester                                    False\n",
       "JobTitle_Watershed Keeper                                      False\n",
       "JobTitle_Watershed Keeper Supervisor                           False\n",
       "JobTitle_Watershed Worker (Seasonal)                           False\n",
       "JobTitle_Welder                                                False\n",
       "JobTitle_Welfare Fraud Investigator                            False\n",
       "JobTitle_Wharfinger 1                                          False\n",
       "JobTitle_Wharfinger 2                                          False\n",
       "JobTitle_Window Cleaner                                        False\n",
       "JobTitle_Window Cleaner Supervisor                             False\n",
       "JobTitle_Wire Rope Cable Maint Mechanic                        False\n",
       "JobTitle_Wire Rope Cable Maint Sprv                            False\n",
       "JobTitle_Worker's Comp Supervisor 1                            False\n",
       "JobTitle_Worker's Compensation Adjuster                        False\n",
       "JobTitle_X-RAY LABORATORY AIDE                                 False\n",
       "JobTitle_X-Ray Laboratory Aide                                 False\n",
       "JobTitle_YOUTH COMMISSION ADVISOR, BOARD OF SUPERVISORS        False\n",
       "JobTitle_Youth Comm Advisor                                    False\n",
       "JobTitle_ZOO CURATOR                                           False\n",
       "Status_FT                                                      False\n",
       "Status_Missing                                                 False\n",
       "Status_PT                                                      False\n",
       "dtype: bool"
      ]
     },
     "execution_count": 60,
     "metadata": {},
     "output_type": "execute_result"
    }
   ],
   "source": [
    "sf.isnull().any()"
   ]
  },
  {
   "cell_type": "code",
   "execution_count": 61,
   "metadata": {
    "collapsed": true
   },
   "outputs": [],
   "source": [
    "y = sf.pop(\"TotalPay\")\n"
   ]
  },
  {
   "cell_type": "code",
   "execution_count": 62,
   "metadata": {
    "collapsed": true
   },
   "outputs": [],
   "source": [
    "X_train, X_test, y_train, y_test = train_test_split(sf, y, test_size=.2, random_state=42)\n"
   ]
  },
  {
   "cell_type": "markdown",
   "metadata": {},
   "source": [
    "** *Random Forest Regressor  Model Implementation:* ** "
   ]
  },
  {
   "cell_type": "code",
   "execution_count": 63,
   "metadata": {
    "collapsed": false
   },
   "outputs": [
    {
     "data": {
      "text/plain": [
       "RandomForestRegressor(bootstrap=True, criterion='mse', max_depth=None,\n",
       "           max_features='auto', max_leaf_nodes=None, min_samples_leaf=1,\n",
       "           min_samples_split=2, min_weight_fraction_leaf=0.0,\n",
       "           n_estimators=400, n_jobs=-1, oob_score=True, random_state=50,\n",
       "           verbose=0, warm_start=False)"
      ]
     },
     "execution_count": 63,
     "metadata": {},
     "output_type": "execute_result"
    }
   ],
   "source": [
    "\n",
    "from sklearn.ensemble import RandomForestRegressor\n",
    "model = RandomForestRegressor(n_estimators=400, oob_score=True,n_jobs=-1, random_state=50,max_features=\"auto\",min_samples_split=2)\n",
    "model.fit(sf, y)"
   ]
  },
  {
   "cell_type": "code",
   "execution_count": 64,
   "metadata": {
    "collapsed": false
   },
   "outputs": [
    {
     "data": {
      "text/plain": [
       "0.9998545876406868"
      ]
     },
     "execution_count": 64,
     "metadata": {},
     "output_type": "execute_result"
    }
   ],
   "source": [
    "model.oob_score_\n"
   ]
  },
  {
   "cell_type": "markdown",
   "metadata": {},
   "source": [
    "** *Performing Hyperparameter Optimization : Grid Search* ** \n",
    "The concept behind performing Grid Search is to estimate the best features which shall provide us with a better accuracy percentage. The oob score which I am getting is pretty high for a model.  I tried performing a grid search, but my system wouldnt handle.\n",
    "    "
   ]
  },
  {
   "cell_type": "code",
   "execution_count": null,
   "metadata": {
    "collapsed": false
   },
   "outputs": [],
   "source": [
    "n_estimators = [300,400,500]\n",
    "max_features = ['auto', 'sqrt','log2']\n",
    "min_samples_split = [1,2,3,4]\n",
    "\n",
    "\n",
    "rfc = RandomForestRegressor(n_jobs=1)\n",
    "#Parameters of pipelines can be set using ‘__’ separated parameter names:\n",
    "estimator = GridSearchCV(rfc,\n",
    "                         dict(n_estimators=n_estimators,\n",
    "                              max_features=max_features,\n",
    "                              min_samples_split=min_samples_split\n",
    "                              ), cv=None, n_jobs=-1)\n",
    "                              \n",
    "estimator.fit(X_train, y_train)\n",
    "estimator.best_estimator_\n",
    "best_rfc = estimator.best_estimator_"
   ]
  },
  {
   "cell_type": "markdown",
   "metadata": {},
   "source": [
    "Accuracy:\n",
    "Here we shall find out how accurate our model is. Accuracy is the prediction of the number of correct predictions from all the predictions from all the predictions made.\n",
    "Here, we are measuring the accuracy for the model after Grid Search.\n",
    "Accuracy is the number of accurate answers divided by the total number of answers."
   ]
  },
  {
   "cell_type": "code",
   "execution_count": null,
   "metadata": {
    "collapsed": true
   },
   "outputs": [],
   "source": [
    "accuracy = accuracy_score(y_test, best_rfc.predict(X_test))\n",
    "print \"Accuracy: \", accuracy"
   ]
  },
  {
   "cell_type": "markdown",
   "metadata": {},
   "source": [
    "** *AUC: Area Under the Curve* **"
   ]
  },
  {
   "cell_type": "code",
   "execution_count": null,
   "metadata": {
    "collapsed": true
   },
   "outputs": [],
   "source": [
    "\n",
    "correct = 0\n",
    "total = y_test.shape[0]\n",
    "for pred_val, truth_val in zip(y_hat, y_test):\n",
    "    if pred_val == truth_val:\n",
    "        correct +=1\n",
    "\n",
    "print correct / float(total)"
   ]
  },
  {
   "cell_type": "code",
   "execution_count": null,
   "metadata": {
    "collapsed": true
   },
   "outputs": [],
   "source": [
    "print classification_report(y_test, best_rfc.predict(X_test))\n"
   ]
  },
  {
   "cell_type": "code",
   "execution_count": null,
   "metadata": {
    "collapsed": true
   },
   "outputs": [],
   "source": [
    "print confusion_matrix(y_test, best_rfc.predict(X_test))\n"
   ]
  },
  {
   "cell_type": "code",
   "execution_count": null,
   "metadata": {
    "collapsed": true
   },
   "outputs": [],
   "source": [
    "roc = roc_auc_score(y_test, best_rfc.predict_proba(X_test)[:,1])\n",
    "print \"AUC Score: \", roc"
   ]
  },
  {
   "cell_type": "code",
   "execution_count": null,
   "metadata": {
    "collapsed": true
   },
   "outputs": [],
   "source": [
    "\n",
    "fpr, tpr, thresholds = roc_curve(y_test, model.predict_proba(X_test)[:,1])\n",
    "# Plot of a ROC curve for a specific class\n",
    "plt.figure()\n",
    "plt.plot(fpr, tpr, label='ROC curve (area = %0.2f)' % roc)\n",
    "plt.plot([0, 1], [0, 1], 'k--')\n",
    "plt.xlim([0.0, 1.0])\n",
    "plt.ylim([0.0, 1.05])\n",
    "plt.xlabel('False Positive Rate')\n",
    "plt.ylabel('True Positive Rate')\n",
    "plt.title('Receiver operating characteristic example')\n",
    "plt.legend(loc=\"lower right\")\n",
    "plt.show()"
   ]
  },
  {
   "cell_type": "code",
   "execution_count": null,
   "metadata": {
    "collapsed": true
   },
   "outputs": [],
   "source": []
  }
 ],
 "metadata": {
  "anaconda-cloud": {},
  "kernelspec": {
   "display_name": "Python [default]",
   "language": "python",
   "name": "python2"
  },
  "language_info": {
   "codemirror_mode": {
    "name": "ipython",
    "version": 2
   },
   "file_extension": ".py",
   "mimetype": "text/x-python",
   "name": "python",
   "nbconvert_exporter": "python",
   "pygments_lexer": "ipython2",
   "version": "2.7.12"
  }
 },
 "nbformat": 4,
 "nbformat_minor": 1
}
