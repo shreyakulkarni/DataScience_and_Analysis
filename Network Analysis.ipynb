{
 "cells": [
  {
   "cell_type": "code",
   "execution_count": 12,
   "metadata": {
    "collapsed": true
   },
   "outputs": [],
   "source": [
    "import networkx as nx\n",
    "%matplotlib inline\n",
    "import matplotlib.pyplot as plt\n"
   ]
  },
  {
   "cell_type": "code",
   "execution_count": 3,
   "metadata": {
    "collapsed": false
   },
   "outputs": [],
   "source": [
    "M=nx.read_gml(\"polblogs.gml\")"
   ]
  },
  {
   "cell_type": "code",
   "execution_count": 4,
   "metadata": {
    "collapsed": true
   },
   "outputs": [],
   "source": [
    "# create weighted graph from M\n",
    "G = nx.Graph()\n",
    "for u,v,data in M.edges_iter(data=True):\n",
    "    if G.has_edge(u,v):\n",
    "        G[u][v]['weight'] += 1\n",
    "    else:\n",
    "        G.add_edge(u, v, weight=1)"
   ]
  },
  {
   "cell_type": "markdown",
   "metadata": {},
   "source": [
    "**Create a nice looking graph of the political blog network**"
   ]
  },
  {
   "cell_type": "code",
   "execution_count": null,
   "metadata": {
    "collapsed": false
   },
   "outputs": [],
   "source": [
    "plt.figure(figsize=(40,40))\n",
    "pos=nx.spring_layout(G, iterations=500, scale=5, k=.3)\n",
    "nx.draw_networkx_labels(G,pos,fontsize=8)\n",
    "font = {'fontname'   : 'Helvetica',\n",
    "            'color'      : 'k',\n",
    "            'fontweight' : 'bold',\n",
    "            'fontsize'   : 15}\n",
    "plt.title(\"Political blog: Graph\", font)\n",
    "\n",
    "\n",
    "nx.draw_networkx_nodes(G,pos,node_color='b',alpha=0.4)\n",
    "nx.draw_networkx_edges(G,pos,alpha=0.4,node_size=0,width=1,edge_color='k')\n",
    "plt.axis('off')\n",
    "plt.show()"
   ]
  },
  {
   "cell_type": "code",
   "execution_count": 6,
   "metadata": {
    "collapsed": true
   },
   "outputs": [],
   "source": [
    "centrality=nx.eigenvector_centrality(G)\n"
   ]
  },
  {
   "cell_type": "code",
   "execution_count": 7,
   "metadata": {
    "collapsed": true
   },
   "outputs": [],
   "source": [
    "person_list = []\n",
    "for node in centrality:\n",
    "    person_list.append((node,centrality[node]))\n",
    "    \n",
    "sorted_person_list = person_list.sort(key=lambda x: x[1])"
   ]
  },
  {
   "cell_type": "markdown",
   "metadata": {},
   "source": [
    "**What are the 10 least influential blogs?**"
   ]
  },
  {
   "cell_type": "code",
   "execution_count": 11,
   "metadata": {
    "collapsed": false
   },
   "outputs": [
    {
     "data": {
      "text/plain": [
       "[(u'thelonedem.com', 1.776325109755965e-72),\n",
       " (u'digital-democrat.blogspot.com', 1.776325109755965e-72),\n",
       " (u'americanworldview.tripod.com/weltansblog', 7.491540638916242e-09),\n",
       " (u'quimundus.modblog.com', 6.682929975006484e-08),\n",
       " (u'batr.org/commentary.html', 6.795517611554005e-07),\n",
       " (u'batr.net', 6.796325594929459e-07),\n",
       " (u'democratvoice.org', 1.0233388204113296e-06),\n",
       " (u'quimundus.squarespace.com', 6.061741218869531e-06),\n",
       " (u'massachusetts-liberal.com', 9.483365235734505e-06),\n",
       " (u'thingsasitis.net', 1.1736249650658606e-05)]"
      ]
     },
     "execution_count": 11,
     "metadata": {},
     "output_type": "execute_result"
    }
   ],
   "source": [
    "least_influential=sorted(person_list, key=lambda x: x[1], reverse=False)\n",
    "least_influential[0:10]"
   ]
  },
  {
   "cell_type": "markdown",
   "metadata": {},
   "source": [
    "**What are the 10 most influential blogs?**\n"
   ]
  },
  {
   "cell_type": "code",
   "execution_count": 9,
   "metadata": {
    "collapsed": true
   },
   "outputs": [],
   "source": [
    "most_influential=sorted(person_list, key=lambda x: x[1], reverse=True)"
   ]
  },
  {
   "cell_type": "code",
   "execution_count": 10,
   "metadata": {
    "collapsed": false
   },
   "outputs": [
    {
     "data": {
      "text/plain": [
       "[(u'atrios.blogspot.com', 0.1948079793663771),\n",
       " (u'dailykos.com', 0.1608974020523483),\n",
       " (u'washingtonmonthly.com', 0.14653924259836879),\n",
       " (u'digbysblog.blogspot.com', 0.14264369221718307),\n",
       " (u'bodyandsoul.typepad.com', 0.14113489174330363),\n",
       " (u'liberaloasis.com', 0.1395237157110787),\n",
       " (u'tbogg.blogspot.com', 0.13703641699824257),\n",
       " (u'corrente.blogspot.com', 0.12941759274096148),\n",
       " (u'talkingpointsmemo.com', 0.12700519780790956),\n",
       " (u'dneiwert.blogspot.com', 0.12237564692546016)]"
      ]
     },
     "execution_count": 10,
     "metadata": {},
     "output_type": "execute_result"
    }
   ],
   "source": [
    "most_influential[0:10]"
   ]
  },
  {
   "cell_type": "code",
   "execution_count": null,
   "metadata": {
    "collapsed": true
   },
   "outputs": [],
   "source": []
  }
 ],
 "metadata": {
  "anaconda-cloud": {},
  "kernelspec": {
   "display_name": "Python [conda root]",
   "language": "python",
   "name": "conda-root-py"
  }
 },
 "nbformat": 4,
 "nbformat_minor": 1
}
